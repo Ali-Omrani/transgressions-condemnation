{
 "cells": [
  {
   "cell_type": "code",
   "execution_count": 1,
   "id": "527afa2f",
   "metadata": {},
   "outputs": [],
   "source": [
    "import pandas as pd\n",
    "import pymongo\n",
    "import json\n",
    "import sqlite3\n",
    "import os\n",
    "from tqdm import tqdm"
   ]
  },
  {
   "cell_type": "code",
   "execution_count": 3,
   "id": "736f89fa",
   "metadata": {},
   "outputs": [],
   "source": [
    "done = []\n",
    "def sql_df_chunk_to_mongo(df_chunk, target, mycol):\n",
    "    df_chunk[\"data\"] = df_chunk.data.apply(lambda data: json.loads(data))\n",
    "    df_chunk[\"data\"].apply(lambda data: data.update({\"target\":target}))\n",
    "    x = mycol.insert_many(df_chunk[\"data\"].tolist())"
   ]
  },
  {
   "cell_type": "markdown",
   "id": "473f9395",
   "metadata": {},
   "source": [
    "## Reading the data chunk by chunk"
   ]
  },
  {
   "cell_type": "code",
   "execution_count": null,
   "id": "2057582d",
   "metadata": {},
   "outputs": [
    {
     "name": "stderr",
     "output_type": "stream",
     "text": [
      "  0%|          | 1/275 [00:00<00:34,  7.96it/s]"
     ]
    },
    {
     "name": "stdout",
     "output_type": "stream",
     "text": [
      "working on steven_wilder_striegel.db\n",
      "working on erick_guerrero.db\n",
      "working on jesse_lacey.db\n"
     ]
    },
    {
     "name": "stderr",
     "output_type": "stream",
     "text": [
      "\r",
      "  1%|          | 3/275 [00:01<03:17,  1.38it/s]"
     ]
    },
    {
     "name": "stdout",
     "output_type": "stream",
     "text": [
      "working on kevin_spacey.db\n"
     ]
    },
    {
     "name": "stderr",
     "output_type": "stream",
     "text": [
      "\r",
      "  1%|▏         | 4/275 [01:58<3:04:17, 40.80s/it]"
     ]
    },
    {
     "name": "stdout",
     "output_type": "stream",
     "text": [
      "working on cody_wilson.db\n"
     ]
    },
    {
     "name": "stderr",
     "output_type": "stream",
     "text": [
      "\r",
      "  2%|▏         | 5/275 [02:01<2:07:07, 28.25s/it]"
     ]
    },
    {
     "name": "stdout",
     "output_type": "stream",
     "text": [
      "working on john_kenneally.db\n",
      "working on caleb_jennings.db\n",
      "working on tj_miller.db\n"
     ]
    },
    {
     "name": "stderr",
     "output_type": "stream",
     "text": [
      "\r",
      "  3%|▎         | 8/275 [02:02<53:23, 12.00s/it]  "
     ]
    },
    {
     "name": "stdout",
     "output_type": "stream",
     "text": [
      "working on morgan_spurlock.db\n"
     ]
    },
    {
     "name": "stderr",
     "output_type": "stream",
     "text": [
      "\r",
      "  3%|▎         | 9/275 [02:05<44:01,  9.93s/it]"
     ]
    },
    {
     "name": "stdout",
     "output_type": "stream",
     "text": [
      "working on oliver_stone.db\n"
     ]
    },
    {
     "name": "stderr",
     "output_type": "stream",
     "text": [
      "\r",
      "  4%|▎         | 10/275 [02:08<36:42,  8.31s/it]"
     ]
    },
    {
     "name": "stdout",
     "output_type": "stream",
     "text": [
      "working on leonard_lopate.db\n"
     ]
    },
    {
     "name": "stderr",
     "output_type": "stream",
     "text": [
      "\r",
      "  4%|▍         | 11/275 [02:09<27:43,  6.30s/it]"
     ]
    },
    {
     "name": "stdout",
     "output_type": "stream",
     "text": [
      "working on sean_hannity.db\n"
     ]
    },
    {
     "name": "stderr",
     "output_type": "stream",
     "text": [
      "\r",
      "  4%|▍         | 12/275 [03:46<2:14:26, 30.67s/it]"
     ]
    },
    {
     "name": "stdout",
     "output_type": "stream",
     "text": [
      "working on alex_kozinski.db\n"
     ]
    },
    {
     "name": "stderr",
     "output_type": "stream",
     "text": [
      "\r",
      "  5%|▍         | 13/275 [03:48<1:39:17, 22.74s/it]"
     ]
    },
    {
     "name": "stdout",
     "output_type": "stream",
     "text": [
      "working on heath_evans.db\n"
     ]
    },
    {
     "name": "stderr",
     "output_type": "stream",
     "text": [
      "  7%|▋         | 18/275 [03:49<27:12,  6.35s/it]  "
     ]
    },
    {
     "name": "stdout",
     "output_type": "stream",
     "text": [
      "working on calvin_smyre.db\n",
      "working on william_kelley.db\n",
      "working on steve_butts.db\n",
      "working on brett_kavanaugh.db\n"
     ]
    },
    {
     "name": "stderr",
     "output_type": "stream",
     "text": [
      "\r",
      "  7%|▋         | 18/275 [04:00<27:12,  6.35s/it]"
     ]
    }
   ],
   "source": [
    "\n",
    "# Create your connection.\n",
    "stats = {\"target\":[], \"count\":[]}\n",
    "myclient = pymongo.MongoClient(\"mongodb://localhost:27017/\")\n",
    "mydb = myclient[\"jason_twitter\"]\n",
    "mycol = mydb[\"tweets\"]\n",
    "c = 0\n",
    "db_dir = \"../../data/\"\n",
    "for f in tqdm(os.listdir(db_dir)):\n",
    "    if f.endswith(\".db\"):\n",
    "        if f in done:\n",
    "            continue\n",
    "        print(\"working on\", f)\n",
    "        cnx = sqlite3.connect(os.path.join(db_dir, f))\n",
    "        df_iterator = pd.read_sql_query(\"SELECT data FROM tweets\", cnx, chunksize=1000)\n",
    "        target = f.split(\".\")[0]\n",
    "        for df_chunk in df_iterator:\n",
    "            sql_df_chunk_to_mongo(df_chunk, target, mycol)\n",
    "        done.append(f)\n",
    "        \n"
   ]
  },
  {
   "cell_type": "code",
   "execution_count": 3,
   "id": "a70aa0db",
   "metadata": {},
   "outputs": [],
   "source": []
  },
  {
   "cell_type": "code",
   "execution_count": null,
   "id": "b3416727",
   "metadata": {},
   "outputs": [],
   "source": [
    "for i, df_chunk in enumerate(df_iterator)\n",
    "\n",
    "    do_something(df_chunk)\n",
    "    \n",
    "    # Set writing mode to append after first chunk\n",
    "    mode = 'w' if i == 0 else 'a'\n",
    "    \n",
    "    # Add header if it is the first chunk\n",
    "    header = i == 0\n",
    "\n",
    "    df_chunk.to_csv(\n",
    "        \"dst_data.csv.gz\",\n",
    "        index=False,  # Skip index column\n",
    "        header=header, \n",
    "        mode=mode,\n",
    "        compression='gzip')"
   ]
  },
  {
   "cell_type": "code",
   "execution_count": 12,
   "id": "c1a6257e",
   "metadata": {},
   "outputs": [
    {
     "data": {
      "text/plain": [
       "{'created_at': 'Wed Oct 03 04:41:03 +0000 2018',\n",
       " 'id': 1047345763548848129,\n",
       " 'id_str': '1047345763548848129',\n",
       " 'full_text': \"Teen in Steven Wilder Striegel's 2010 sex abuse case comes forward to 'reclaim my identity' https://t.co/ml3nwS7it8\",\n",
       " 'truncated': False,\n",
       " 'display_text_range': [0, 115],\n",
       " 'entities': {'hashtags': [],\n",
       "  'symbols': [],\n",
       "  'user_mentions': [],\n",
       "  'urls': [{'url': 'https://t.co/ml3nwS7it8',\n",
       "    'expanded_url': 'http://www.nydailynews.com/entertainment/movies/ny-ent-jane-doe-predator-speaks-out-20180913-story.html?tDTG',\n",
       "    'display_url': 'nydailynews.com/entertainment/…',\n",
       "    'indices': [92, 115]}]},\n",
       " 'source': '<a href=\"http://twitter.com\" rel=\"nofollow\">Twitter Web Client</a>',\n",
       " 'in_reply_to_status_id': None,\n",
       " 'in_reply_to_status_id_str': None,\n",
       " 'in_reply_to_user_id': None,\n",
       " 'in_reply_to_user_id_str': None,\n",
       " 'in_reply_to_screen_name': None,\n",
       " 'geo': None,\n",
       " 'coordinates': None,\n",
       " 'place': None,\n",
       " 'contributors': None,\n",
       " 'is_quote_status': False,\n",
       " 'retweet_count': 0,\n",
       " 'favorite_count': 0,\n",
       " 'reply_count': 0,\n",
       " 'conversation_id': 1047345763548848129,\n",
       " 'conversation_id_str': '1047345763548848129',\n",
       " 'favorited': False,\n",
       " 'retweeted': False,\n",
       " 'possibly_sensitive': False,\n",
       " 'possibly_sensitive_editable': True,\n",
       " 'lang': 'en',\n",
       " 'supplemental_language': None,\n",
       " 'user': {'id': 3120474556,\n",
       "  'id_str': '3120474556',\n",
       "  'name': 'Regina Jinks',\n",
       "  'screen_name': 'ReginaJinks',\n",
       "  'location': '',\n",
       "  'description': '',\n",
       "  'url': None,\n",
       "  'entities': {'description': {'urls': []}},\n",
       "  'protected': False,\n",
       "  'followers_count': 37,\n",
       "  'fast_followers_count': 0,\n",
       "  'normal_followers_count': 37,\n",
       "  'friends_count': 161,\n",
       "  'listed_count': 5,\n",
       "  'created_at': 'Fri Mar 27 02:44:50 +0000 2015',\n",
       "  'favourites_count': 3689,\n",
       "  'utc_offset': None,\n",
       "  'time_zone': None,\n",
       "  'geo_enabled': False,\n",
       "  'verified': False,\n",
       "  'statuses_count': 6884,\n",
       "  'media_count': 562,\n",
       "  'lang': None,\n",
       "  'contributors_enabled': False,\n",
       "  'is_translator': False,\n",
       "  'is_translation_enabled': False,\n",
       "  'profile_background_color': '352726',\n",
       "  'profile_background_image_url': 'http://abs.twimg.com/images/themes/theme5/bg.gif',\n",
       "  'profile_background_image_url_https': 'https://abs.twimg.com/images/themes/theme5/bg.gif',\n",
       "  'profile_background_tile': False,\n",
       "  'profile_image_url': 'http://pbs.twimg.com/profile_images/679017755295657985/S4Nap52g_normal.jpg',\n",
       "  'profile_image_url_https': 'https://pbs.twimg.com/profile_images/679017755295657985/S4Nap52g_normal.jpg',\n",
       "  'profile_banner_url': 'https://pbs.twimg.com/profile_banners/3120474556/1450725436',\n",
       "  'profile_image_extensions_alt_text': None,\n",
       "  'profile_image_extensions_media_availability': None,\n",
       "  'profile_image_extensions_media_color': None,\n",
       "  'profile_image_extensions': {'mediaStats': {'r': {'missing': None},\n",
       "    'ttl': -1}},\n",
       "  'profile_banner_extensions_alt_text': None,\n",
       "  'profile_banner_extensions_media_availability': None,\n",
       "  'profile_banner_extensions_media_color': None,\n",
       "  'profile_banner_extensions': {'mediaStats': {'r': {'missing': None},\n",
       "    'ttl': -1}},\n",
       "  'profile_link_color': 'D02B55',\n",
       "  'profile_sidebar_border_color': '829D5E',\n",
       "  'profile_sidebar_fill_color': '99CC33',\n",
       "  'profile_text_color': '3E4415',\n",
       "  'profile_use_background_image': True,\n",
       "  'has_extended_profile': False,\n",
       "  'default_profile': False,\n",
       "  'default_profile_image': False,\n",
       "  'pinned_tweet_ids': [],\n",
       "  'pinned_tweet_ids_str': [],\n",
       "  'has_custom_timelines': False,\n",
       "  'can_dm': None,\n",
       "  'following': None,\n",
       "  'follow_request_sent': None,\n",
       "  'notifications': None,\n",
       "  'muting': None,\n",
       "  'blocking': None,\n",
       "  'blocked_by': None,\n",
       "  'want_retweets': None,\n",
       "  'advertiser_account_type': 'none',\n",
       "  'advertiser_account_service_levels': [],\n",
       "  'profile_interstitial_type': '',\n",
       "  'business_profile_state': 'none',\n",
       "  'translator_type': 'none',\n",
       "  'withheld_in_countries': [],\n",
       "  'followed_by': None,\n",
       "  'ext': {'highlightedLabel': {'r': {'ok': {}}, 'ttl': -1}},\n",
       "  'require_some_consent': False},\n",
       " 'retrieved_utc': 1654725819,\n",
       " 'target': 'steven_wilder_striegel',\n",
       " '_id': ObjectId('6383dae120d9624890dd9faa')}"
      ]
     },
     "execution_count": 12,
     "metadata": {},
     "output_type": "execute_result"
    }
   ],
   "source": [
    "df[\"loaded_json\"][0]"
   ]
  },
  {
   "cell_type": "code",
   "execution_count": null,
   "id": "a7bd9938",
   "metadata": {},
   "outputs": [],
   "source": []
  }
 ],
 "metadata": {
  "kernelspec": {
   "display_name": "tenv",
   "language": "python",
   "name": "tenv"
  },
  "language_info": {
   "codemirror_mode": {
    "name": "ipython",
    "version": 3
   },
   "file_extension": ".py",
   "mimetype": "text/x-python",
   "name": "python",
   "nbconvert_exporter": "python",
   "pygments_lexer": "ipython3",
   "version": "3.6.9"
  }
 },
 "nbformat": 4,
 "nbformat_minor": 5
}
