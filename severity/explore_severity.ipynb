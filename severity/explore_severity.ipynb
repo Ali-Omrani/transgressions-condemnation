{
 "cells": [
  {
   "cell_type": "code",
   "execution_count": 1,
   "id": "ef734ff9",
   "metadata": {},
   "outputs": [],
   "source": [
    "from pathlib import Path\n",
    "import json\n",
    "import pandas as pd\n",
    "import numpy as np\n",
    "import os\n",
    "from tqdm import tqdm"
   ]
  },
  {
   "cell_type": "code",
   "execution_count": 5,
   "id": "d2c51fbf",
   "metadata": {},
   "outputs": [
    {
     "name": "stdout",
     "output_type": "stream",
     "text": [
      "data/reliability_util_severity.ipynb\n",
      "data/severity_annotation.cpython-36.pyc\n",
      "data/severity_review.cpython-36.pyc\n",
      "data/ta_severity_annotators_data_r1.csv\n",
      "data/ta_severity_data_r1.csv\n",
      "data/severity_review.py\n",
      "data/severity_annotation-Copy1.py\n",
      "data/annotation_notes_severity_team.txt\n",
      "data/severity_annotation.py\n",
      "data/ta_severity_annotators_data_r3.csv\n",
      "data/reliability_util_severity_r2.ipynb\n",
      "data/severity_annotation_management.ipynb\n",
      "data/ta_severity_data_r2.csv\n",
      "data/ta_severity_annotators_data_r2.csv\n",
      "data/options_severity.jsonl\n"
     ]
    }
   ],
   "source": [
    "data_folder = Path(\"./data/\")\n",
    "\n",
    "for file in data_folder.glob(\"*\"):\n",
    "    print(file)"
   ]
  },
  {
   "cell_type": "code",
   "execution_count": null,
   "id": "8f29a2a5",
   "metadata": {},
   "outputs": [],
   "source": []
  }
 ],
 "metadata": {
  "kernelspec": {
   "display_name": "transgression-env",
   "language": "python",
   "name": "transgression-env"
  },
  "language_info": {
   "codemirror_mode": {
    "name": "ipython",
    "version": 3
   },
   "file_extension": ".py",
   "mimetype": "text/x-python",
   "name": "python",
   "nbconvert_exporter": "python",
   "pygments_lexer": "ipython3",
   "version": "3.6.9"
  }
 },
 "nbformat": 4,
 "nbformat_minor": 5
}
