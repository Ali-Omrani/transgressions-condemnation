{
 "cells": [
  {
   "cell_type": "code",
   "execution_count": 7,
   "id": "c00abf9b",
   "metadata": {},
   "outputs": [],
   "source": [
    "import json\n",
    "import pickle\n",
    "import os\n",
    "import pandas as pd\n",
    "import numpy as np\n",
    "from tqdm import tqdm"
   ]
  },
  {
   "cell_type": "code",
   "execution_count": 8,
   "id": "1d91c2d9",
   "metadata": {},
   "outputs": [],
   "source": [
    "data_dir = \"./severity_dumps/\"\n",
    "filenames = os.listdir(data_dir)"
   ]
  },
  {
   "cell_type": "code",
   "execution_count": 9,
   "id": "2fd5e2af",
   "metadata": {},
   "outputs": [
    {
     "data": {
      "text/plain": [
       "['ta_joe_severity_r1',\n",
       " 'ta_sanjna_severity_r1',\n",
       " 'ta_nour_severity_r1',\n",
       " 'ta_negin_severity_r1',\n",
       " 'ta_jillian_severity_r1',\n",
       " 'ta_xiaoyan_severity_r1',\n",
       " 'ta_joe_severity_training_r1']"
      ]
     },
     "execution_count": 9,
     "metadata": {},
     "output_type": "execute_result"
    }
   ],
   "source": [
    "r1_filenames = [name for name in filenames if \"r1\" in name]\n",
    "r1_filenames"
   ]
  },
  {
   "cell_type": "code",
   "execution_count": 24,
   "id": "002cc0e4",
   "metadata": {},
   "outputs": [
    {
     "name": "stdout",
     "output_type": "stream",
     "text": [
      "ta_joe_severity_r1 200\n",
      "ta_sanjna_severity_r1 172\n",
      "ta_nour_severity_r1 194\n",
      "ta_negin_severity_r1 200\n",
      "ta_jillian_severity_r1 200\n",
      "ta_xiaoyan_severity_r1 145\n",
      "ta_joe_severity_training_r1 0\n"
     ]
    }
   ],
   "source": [
    "r1_datasets = {}\n",
    "for filename in r1_filenames:\n",
    "    \n",
    "    r1_datasets[filename] = pickle.load(open(os.path.join(data_dir, filename), \"rb\"))\n",
    "    print(filename, len(r1_datasets[filename]))"
   ]
  },
  {
   "cell_type": "code",
   "execution_count": 18,
   "id": "0df3af3d",
   "metadata": {},
   "outputs": [
    {
     "data": {
      "text/plain": [
       "dict_keys(['ta_joe_severity_r1', 'ta_sanjna_severity_r1', 'ta_nour_severity_r1', 'ta_negin_severity_r1', 'ta_jillian_severity_r1', 'ta_xiaoyan_severity_r1', 'ta_joe_severity_training_r1'])"
      ]
     },
     "execution_count": 18,
     "metadata": {},
     "output_type": "execute_result"
    }
   ],
   "source": [
    "r1_datasets.keys()"
   ]
  },
  {
   "cell_type": "code",
   "execution_count": 21,
   "id": "36899ab5",
   "metadata": {},
   "outputs": [
    {
     "data": {
      "text/plain": [
       "dict_keys(['text', 'meta', 'spans', 'label', 'accept', '_input_hash', '_task_hash', 'options', '_session_id', '_view_id', 'answer'])"
      ]
     },
     "execution_count": 21,
     "metadata": {},
     "output_type": "execute_result"
    }
   ],
   "source": [
    "r1_datasets[\"ta_joe_severity_r1\"][0].keys()\n"
   ]
  },
  {
   "cell_type": "code",
   "execution_count": 23,
   "id": "209ac2b5",
   "metadata": {},
   "outputs": [
    {
     "data": {
      "text/plain": [
       "{'tweet_id': '925856978475171841',\n",
       " 'mask_map': {'<TARGET 1>': 'Michael Oreskes'},\n",
       " 'pattern_match': True,\n",
       " 'target_label': '<TARGET 1>',\n",
       " 'target': 'Michael Oreskes'}"
      ]
     },
     "execution_count": 23,
     "metadata": {},
     "output_type": "execute_result"
    }
   ],
   "source": [
    "r1_datasets[\"ta_joe_severity_r1\"][0][\"meta\"]\n"
   ]
  },
  {
   "cell_type": "code",
   "execution_count": 31,
   "id": "38ff91a8",
   "metadata": {},
   "outputs": [
    {
     "data": {
      "text/plain": [
       "[1, '2']"
      ]
     },
     "execution_count": 31,
     "metadata": {},
     "output_type": "execute_result"
    }
   ],
   "source": [
    "r1_datasets[\"ta_joe_severity_r1\"][2][\"accept\"]\n"
   ]
  },
  {
   "cell_type": "code",
   "execution_count": null,
   "id": "d94ce1a1",
   "metadata": {},
   "outputs": [],
   "source": []
  }
 ],
 "metadata": {
  "kernelspec": {
   "display_name": "transgression-env",
   "language": "python",
   "name": "transgression-env"
  },
  "language_info": {
   "codemirror_mode": {
    "name": "ipython",
    "version": 3
   },
   "file_extension": ".py",
   "mimetype": "text/x-python",
   "name": "python",
   "nbconvert_exporter": "python",
   "pygments_lexer": "ipython3",
   "version": "3.6.9"
  }
 },
 "nbformat": 4,
 "nbformat_minor": 5
}
