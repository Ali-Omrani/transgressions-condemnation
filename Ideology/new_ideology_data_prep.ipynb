{
 "cells": [
  {
   "cell_type": "code",
   "execution_count": 2,
   "id": "9ebb7784",
   "metadata": {},
   "outputs": [],
   "source": [
    "import torch\n",
    "from transformers import AutoTokenizer, AutoModelForSequenceClassification, DataCollatorWithPadding, Trainer, TrainingArguments\n",
    "from datasets import load_dataset, load_metric, Dataset\n",
    "\n",
    "from sklearn.metrics import accuracy_score, f1_score, recall_score, precision_score\n",
    "from sklearn.model_selection import StratifiedShuffleSplit\n",
    "import numpy as np\n",
    "import pickle\n",
    "import pandas as pd\n",
    "from datasets import Value\n",
    "from torch.utils.data import DataLoader\n",
    "import argparse\n",
    "import os\n",
    "from pymongo import MongoClient\n",
    "import IPython\n",
    "from tqdm import tqdm"
   ]
  },
  {
   "cell_type": "code",
   "execution_count": 30,
   "id": "007fb525",
   "metadata": {},
   "outputs": [],
   "source": [
    "client = MongoClient()\n",
    "db_metoo_tweets = client[\"jason_twitter\"]\n",
    "metoo_tweets = db_metoo_tweets.tweets"
   ]
  },
  {
   "cell_type": "code",
   "execution_count": 31,
   "id": "28470671",
   "metadata": {},
   "outputs": [],
   "source": [
    "tweet_cursor = metoo_tweets.find({\"condemnation_prediction\":1})"
   ]
  },
  {
   "cell_type": "code",
   "execution_count": 32,
   "id": "18da7b5f",
   "metadata": {},
   "outputs": [],
   "source": [
    "user_ids = set()"
   ]
  },
  {
   "cell_type": "code",
   "execution_count": 33,
   "id": "473800bc",
   "metadata": {},
   "outputs": [
    {
     "name": "stderr",
     "output_type": "stream",
     "text": [
      "8257732it [23:54, 5757.79it/s]\n"
     ]
    }
   ],
   "source": [
    "for tweet in tqdm(tweet_cursor):\n",
    "    user_ids.add(tweet[\"user\"][\"id\"])\n"
   ]
  },
  {
   "cell_type": "code",
   "execution_count": 34,
   "id": "95ee4ca1",
   "metadata": {},
   "outputs": [
    {
     "data": {
      "text/plain": [
       "1405212"
      ]
     },
     "execution_count": 34,
     "metadata": {},
     "output_type": "execute_result"
    }
   ],
   "source": [
    "len(user_ids)"
   ]
  },
  {
   "cell_type": "code",
   "execution_count": 35,
   "id": "346e6392",
   "metadata": {},
   "outputs": [],
   "source": [
    "pf_df = pd.read_csv(\"../../data/ideology-data/followers_list.csv\")"
   ]
  },
  {
   "cell_type": "code",
   "execution_count": 36,
   "id": "a4bfa29d",
   "metadata": {},
   "outputs": [],
   "source": [
    "pf_df = pf_df.rename(columns={\"Unnamed: 0\": \"account\"})"
   ]
  },
  {
   "cell_type": "code",
   "execution_count": 37,
   "id": "727f531f",
   "metadata": {},
   "outputs": [
    {
     "data": {
      "text/html": [
       "<div>\n",
       "<style scoped>\n",
       "    .dataframe tbody tr th:only-of-type {\n",
       "        vertical-align: middle;\n",
       "    }\n",
       "\n",
       "    .dataframe tbody tr th {\n",
       "        vertical-align: top;\n",
       "    }\n",
       "\n",
       "    .dataframe thead th {\n",
       "        text-align: right;\n",
       "    }\n",
       "</style>\n",
       "<table border=\"1\" class=\"dataframe\">\n",
       "  <thead>\n",
       "    <tr style=\"text-align: right;\">\n",
       "      <th></th>\n",
       "      <th>account</th>\n",
       "      <th>followers_list</th>\n",
       "    </tr>\n",
       "  </thead>\n",
       "  <tbody>\n",
       "    <tr>\n",
       "      <th>0</th>\n",
       "      <td>10168082</td>\n",
       "      <td>['1648278229558636545', '37696245', '123178873...</td>\n",
       "    </tr>\n",
       "    <tr>\n",
       "      <th>1</th>\n",
       "      <td>104237736</td>\n",
       "      <td>['1259652728', '1648890787869130753', '1502603...</td>\n",
       "    </tr>\n",
       "    <tr>\n",
       "      <th>2</th>\n",
       "      <td>10615232</td>\n",
       "      <td>['84143903', '1334695790388932609', '992262732...</td>\n",
       "    </tr>\n",
       "    <tr>\n",
       "      <th>3</th>\n",
       "      <td>1082334352711790593</td>\n",
       "      <td>['1646356229340446720', '24060272', '164004309...</td>\n",
       "    </tr>\n",
       "    <tr>\n",
       "      <th>4</th>\n",
       "      <td>1099199839</td>\n",
       "      <td>['1047854881640464385', '1452724337685917696',...</td>\n",
       "    </tr>\n",
       "    <tr>\n",
       "      <th>...</th>\n",
       "      <td>...</td>\n",
       "      <td>...</td>\n",
       "    </tr>\n",
       "    <tr>\n",
       "      <th>132</th>\n",
       "      <td>92186819</td>\n",
       "      <td>['1647146994761101312', '3920764053', '1647747...</td>\n",
       "    </tr>\n",
       "    <tr>\n",
       "      <th>133</th>\n",
       "      <td>926446070812602371</td>\n",
       "      <td>['1635498467307974657', '924283349727961091', ...</td>\n",
       "    </tr>\n",
       "    <tr>\n",
       "      <th>134</th>\n",
       "      <td>9300262</td>\n",
       "      <td>['528589465', '1648932804401692673', '83726367...</td>\n",
       "    </tr>\n",
       "    <tr>\n",
       "      <th>135</th>\n",
       "      <td>935368364</td>\n",
       "      <td>['1479847684219490304', '1511704596800016387',...</td>\n",
       "    </tr>\n",
       "    <tr>\n",
       "      <th>136</th>\n",
       "      <td>939091</td>\n",
       "      <td>['1648926897135579136', '1648893511557873664',...</td>\n",
       "    </tr>\n",
       "  </tbody>\n",
       "</table>\n",
       "<p>137 rows × 2 columns</p>\n",
       "</div>"
      ],
      "text/plain": [
       "                 account                                     followers_list\n",
       "0               10168082  ['1648278229558636545', '37696245', '123178873...\n",
       "1              104237736  ['1259652728', '1648890787869130753', '1502603...\n",
       "2               10615232  ['84143903', '1334695790388932609', '992262732...\n",
       "3    1082334352711790593  ['1646356229340446720', '24060272', '164004309...\n",
       "4             1099199839  ['1047854881640464385', '1452724337685917696',...\n",
       "..                   ...                                                ...\n",
       "132             92186819  ['1647146994761101312', '3920764053', '1647747...\n",
       "133   926446070812602371  ['1635498467307974657', '924283349727961091', ...\n",
       "134              9300262  ['528589465', '1648932804401692673', '83726367...\n",
       "135            935368364  ['1479847684219490304', '1511704596800016387',...\n",
       "136               939091  ['1648926897135579136', '1648893511557873664',...\n",
       "\n",
       "[137 rows x 2 columns]"
      ]
     },
     "execution_count": 37,
     "metadata": {},
     "output_type": "execute_result"
    }
   ],
   "source": [
    "pf_df"
   ]
  },
  {
   "cell_type": "code",
   "execution_count": 38,
   "id": "4dc4dab7",
   "metadata": {},
   "outputs": [
    {
     "name": "stderr",
     "output_type": "stream",
     "text": [
      "137it [00:03, 35.42it/s]\n"
     ]
    },
    {
     "data": {
      "text/html": [
       "<div>\n",
       "<style scoped>\n",
       "    .dataframe tbody tr th:only-of-type {\n",
       "        vertical-align: middle;\n",
       "    }\n",
       "\n",
       "    .dataframe tbody tr th {\n",
       "        vertical-align: top;\n",
       "    }\n",
       "\n",
       "    .dataframe thead th {\n",
       "        text-align: right;\n",
       "    }\n",
       "</style>\n",
       "<table border=\"1\" class=\"dataframe\">\n",
       "  <thead>\n",
       "    <tr style=\"text-align: right;\">\n",
       "      <th></th>\n",
       "      <th>account</th>\n",
       "      <th>id_str</th>\n",
       "    </tr>\n",
       "  </thead>\n",
       "  <tbody>\n",
       "    <tr>\n",
       "      <th>0</th>\n",
       "      <td>10168082</td>\n",
       "      <td>1648278229558636545</td>\n",
       "    </tr>\n",
       "    <tr>\n",
       "      <th>1</th>\n",
       "      <td>10168082</td>\n",
       "      <td>37696245</td>\n",
       "    </tr>\n",
       "    <tr>\n",
       "      <th>2</th>\n",
       "      <td>10168082</td>\n",
       "      <td>1231788738885361665</td>\n",
       "    </tr>\n",
       "    <tr>\n",
       "      <th>3</th>\n",
       "      <td>10168082</td>\n",
       "      <td>1624474085425295360</td>\n",
       "    </tr>\n",
       "    <tr>\n",
       "      <th>4</th>\n",
       "      <td>10168082</td>\n",
       "      <td>1331736257530122241</td>\n",
       "    </tr>\n",
       "    <tr>\n",
       "      <th>...</th>\n",
       "      <td>...</td>\n",
       "      <td>...</td>\n",
       "    </tr>\n",
       "    <tr>\n",
       "      <th>677306</th>\n",
       "      <td>939091</td>\n",
       "      <td>1648726291619749888</td>\n",
       "    </tr>\n",
       "    <tr>\n",
       "      <th>677307</th>\n",
       "      <td>939091</td>\n",
       "      <td>1048120681936826369</td>\n",
       "    </tr>\n",
       "    <tr>\n",
       "      <th>677308</th>\n",
       "      <td>939091</td>\n",
       "      <td>1648732272730972160</td>\n",
       "    </tr>\n",
       "    <tr>\n",
       "      <th>677309</th>\n",
       "      <td>939091</td>\n",
       "      <td>1648731259026145292</td>\n",
       "    </tr>\n",
       "    <tr>\n",
       "      <th>677310</th>\n",
       "      <td>939091</td>\n",
       "      <td>4744094241</td>\n",
       "    </tr>\n",
       "  </tbody>\n",
       "</table>\n",
       "<p>677311 rows × 2 columns</p>\n",
       "</div>"
      ],
      "text/plain": [
       "         account               id_str\n",
       "0       10168082  1648278229558636545\n",
       "1       10168082             37696245\n",
       "2       10168082  1231788738885361665\n",
       "3       10168082  1624474085425295360\n",
       "4       10168082  1331736257530122241\n",
       "...          ...                  ...\n",
       "677306    939091  1648726291619749888\n",
       "677307    939091  1048120681936826369\n",
       "677308    939091  1648732272730972160\n",
       "677309    939091  1648731259026145292\n",
       "677310    939091           4744094241\n",
       "\n",
       "[677311 rows x 2 columns]"
      ]
     },
     "execution_count": 38,
     "metadata": {},
     "output_type": "execute_result"
    }
   ],
   "source": [
    "new_rows = []\n",
    "for idx, row in tqdm(pf_df.iterrows()):\n",
    "    new_rows.extend({\"account\" : row[\"account\"]  , \"id_str\": u} for u in ast.literal_eval(row[\"followers_list\"]))\n",
    "    \n",
    "pf_df = pd.DataFrame(new_rows)\n",
    "pf_df"
   ]
  },
  {
   "cell_type": "code",
   "execution_count": 39,
   "id": "152adb78",
   "metadata": {},
   "outputs": [],
   "source": [
    "# followers_df = pd.read_csv(\"./460_account_followers.csv\")\n",
    "followers_df = pf_df"
   ]
  },
  {
   "cell_type": "code",
   "execution_count": 40,
   "id": "1acb481a",
   "metadata": {},
   "outputs": [
    {
     "data": {
      "text/html": [
       "<div>\n",
       "<style scoped>\n",
       "    .dataframe tbody tr th:only-of-type {\n",
       "        vertical-align: middle;\n",
       "    }\n",
       "\n",
       "    .dataframe tbody tr th {\n",
       "        vertical-align: top;\n",
       "    }\n",
       "\n",
       "    .dataframe thead th {\n",
       "        text-align: right;\n",
       "    }\n",
       "</style>\n",
       "<table border=\"1\" class=\"dataframe\">\n",
       "  <thead>\n",
       "    <tr style=\"text-align: right;\">\n",
       "      <th></th>\n",
       "      <th>account</th>\n",
       "      <th>id_str</th>\n",
       "    </tr>\n",
       "  </thead>\n",
       "  <tbody>\n",
       "    <tr>\n",
       "      <th>0</th>\n",
       "      <td>10168082</td>\n",
       "      <td>1648278229558636545</td>\n",
       "    </tr>\n",
       "    <tr>\n",
       "      <th>1</th>\n",
       "      <td>10168082</td>\n",
       "      <td>37696245</td>\n",
       "    </tr>\n",
       "    <tr>\n",
       "      <th>2</th>\n",
       "      <td>10168082</td>\n",
       "      <td>1231788738885361665</td>\n",
       "    </tr>\n",
       "    <tr>\n",
       "      <th>3</th>\n",
       "      <td>10168082</td>\n",
       "      <td>1624474085425295360</td>\n",
       "    </tr>\n",
       "    <tr>\n",
       "      <th>4</th>\n",
       "      <td>10168082</td>\n",
       "      <td>1331736257530122241</td>\n",
       "    </tr>\n",
       "    <tr>\n",
       "      <th>...</th>\n",
       "      <td>...</td>\n",
       "      <td>...</td>\n",
       "    </tr>\n",
       "    <tr>\n",
       "      <th>677306</th>\n",
       "      <td>939091</td>\n",
       "      <td>1648726291619749888</td>\n",
       "    </tr>\n",
       "    <tr>\n",
       "      <th>677307</th>\n",
       "      <td>939091</td>\n",
       "      <td>1048120681936826369</td>\n",
       "    </tr>\n",
       "    <tr>\n",
       "      <th>677308</th>\n",
       "      <td>939091</td>\n",
       "      <td>1648732272730972160</td>\n",
       "    </tr>\n",
       "    <tr>\n",
       "      <th>677309</th>\n",
       "      <td>939091</td>\n",
       "      <td>1648731259026145292</td>\n",
       "    </tr>\n",
       "    <tr>\n",
       "      <th>677310</th>\n",
       "      <td>939091</td>\n",
       "      <td>4744094241</td>\n",
       "    </tr>\n",
       "  </tbody>\n",
       "</table>\n",
       "<p>677311 rows × 2 columns</p>\n",
       "</div>"
      ],
      "text/plain": [
       "         account               id_str\n",
       "0       10168082  1648278229558636545\n",
       "1       10168082             37696245\n",
       "2       10168082  1231788738885361665\n",
       "3       10168082  1624474085425295360\n",
       "4       10168082  1331736257530122241\n",
       "...          ...                  ...\n",
       "677306    939091  1648726291619749888\n",
       "677307    939091  1048120681936826369\n",
       "677308    939091  1648732272730972160\n",
       "677309    939091  1648731259026145292\n",
       "677310    939091           4744094241\n",
       "\n",
       "[677311 rows x 2 columns]"
      ]
     },
     "execution_count": 40,
     "metadata": {},
     "output_type": "execute_result"
    }
   ],
   "source": [
    "followers_df"
   ]
  },
  {
   "cell_type": "code",
   "execution_count": 41,
   "id": "1d653c6c",
   "metadata": {},
   "outputs": [],
   "source": [
    "accounts_who_follow_poli = set(followers_df.id_str)"
   ]
  },
  {
   "cell_type": "code",
   "execution_count": 42,
   "id": "4e0fe618",
   "metadata": {},
   "outputs": [
    {
     "data": {
      "text/plain": [
       "484775"
      ]
     },
     "execution_count": 42,
     "metadata": {},
     "output_type": "execute_result"
    }
   ],
   "source": [
    "len(accounts_who_follow_poli)"
   ]
  },
  {
   "cell_type": "code",
   "execution_count": 43,
   "id": "4470f002",
   "metadata": {},
   "outputs": [
    {
     "name": "stderr",
     "output_type": "stream",
     "text": [
      "100%|██████████| 1405212/1405212 [00:00<00:00, 2477940.82it/s]\n"
     ]
    },
    {
     "data": {
      "text/plain": [
       "1405212"
      ]
     },
     "execution_count": 43,
     "metadata": {},
     "output_type": "execute_result"
    }
   ],
   "source": [
    "non_poli_users = []\n",
    "poli_users = []\n",
    "\n",
    "for user_id in tqdm(user_ids):\n",
    "    if user_id in accounts_who_follow_poli:\n",
    "        poli_users.append(user_id)\n",
    "    else:\n",
    "        non_poli_users.append(user_id)\n",
    "len(non_poli_users)"
   ]
  },
  {
   "cell_type": "code",
   "execution_count": 44,
   "id": "6168d40a",
   "metadata": {},
   "outputs": [],
   "source": [
    "users_with_estimate = user_ids.intersection(accounts_who_follow_poli)"
   ]
  },
  {
   "cell_type": "code",
   "execution_count": 45,
   "id": "85edb16c",
   "metadata": {},
   "outputs": [
    {
     "data": {
      "text/plain": [
       "0"
      ]
     },
     "execution_count": 45,
     "metadata": {},
     "output_type": "execute_result"
    }
   ],
   "source": [
    "len(users_with_estimate)"
   ]
  },
  {
   "cell_type": "code",
   "execution_count": 46,
   "id": "16651d93",
   "metadata": {},
   "outputs": [],
   "source": [
    "filtered_followers_df = followers_df[followers_df.id_str.isin(user_ids)]"
   ]
  },
  {
   "cell_type": "code",
   "execution_count": 47,
   "id": "32cd1594",
   "metadata": {},
   "outputs": [
    {
     "data": {
      "text/plain": [
       "0"
      ]
     },
     "execution_count": 47,
     "metadata": {},
     "output_type": "execute_result"
    }
   ],
   "source": [
    "len(set(filtered_followers_df.id_str))"
   ]
  },
  {
   "cell_type": "code",
   "execution_count": 48,
   "id": "f04be830",
   "metadata": {},
   "outputs": [],
   "source": [
    "unique_user_id_df = pd.DataFrame({\"id_str\":list(user_ids)})"
   ]
  },
  {
   "cell_type": "code",
   "execution_count": 49,
   "id": "fb341f4c",
   "metadata": {
    "scrolled": true
   },
   "outputs": [
    {
     "ename": "ValueError",
     "evalue": "You are trying to merge on object and int64 columns. If you wish to proceed you should use pd.concat",
     "output_type": "error",
     "traceback": [
      "\u001b[0;31m---------------------------------------------------------------------------\u001b[0m",
      "\u001b[0;31mValueError\u001b[0m                                Traceback (most recent call last)",
      "\u001b[0;32m<ipython-input-49-e4a47382d396>\u001b[0m in \u001b[0;36m<module>\u001b[0;34m\u001b[0m\n\u001b[1;32m      1\u001b[0m \u001b[0;31m# unique_user_id_df = unique_user_id_df.rename(columns={\"user.id_str\":\"id_str\"})\u001b[0m\u001b[0;34m\u001b[0m\u001b[0;34m\u001b[0m\u001b[0;34m\u001b[0m\u001b[0m\n\u001b[0;32m----> 2\u001b[0;31m \u001b[0mjoin_df\u001b[0m \u001b[0;34m=\u001b[0m \u001b[0mpd\u001b[0m\u001b[0;34m.\u001b[0m\u001b[0mmerge\u001b[0m\u001b[0;34m(\u001b[0m\u001b[0mfollowers_df\u001b[0m\u001b[0;34m,\u001b[0m \u001b[0munique_user_id_df\u001b[0m\u001b[0;34m,\u001b[0m \u001b[0mhow\u001b[0m\u001b[0;34m=\u001b[0m\u001b[0;34m\"inner\"\u001b[0m\u001b[0;34m,\u001b[0m \u001b[0mon\u001b[0m\u001b[0;34m=\u001b[0m\u001b[0;34m\"id_str\"\u001b[0m\u001b[0;34m)\u001b[0m\u001b[0;34m\u001b[0m\u001b[0;34m\u001b[0m\u001b[0m\n\u001b[0m",
      "\u001b[0;32m~/Research/Transgression/tenv/lib/python3.6/site-packages/pandas/core/reshape/merge.py\u001b[0m in \u001b[0;36mmerge\u001b[0;34m(left, right, how, on, left_on, right_on, left_index, right_index, sort, suffixes, copy, indicator, validate)\u001b[0m\n\u001b[1;32m     85\u001b[0m         \u001b[0mcopy\u001b[0m\u001b[0;34m=\u001b[0m\u001b[0mcopy\u001b[0m\u001b[0;34m,\u001b[0m\u001b[0;34m\u001b[0m\u001b[0;34m\u001b[0m\u001b[0m\n\u001b[1;32m     86\u001b[0m         \u001b[0mindicator\u001b[0m\u001b[0;34m=\u001b[0m\u001b[0mindicator\u001b[0m\u001b[0;34m,\u001b[0m\u001b[0;34m\u001b[0m\u001b[0;34m\u001b[0m\u001b[0m\n\u001b[0;32m---> 87\u001b[0;31m         \u001b[0mvalidate\u001b[0m\u001b[0;34m=\u001b[0m\u001b[0mvalidate\u001b[0m\u001b[0;34m,\u001b[0m\u001b[0;34m\u001b[0m\u001b[0;34m\u001b[0m\u001b[0m\n\u001b[0m\u001b[1;32m     88\u001b[0m     )\n\u001b[1;32m     89\u001b[0m     \u001b[0;32mreturn\u001b[0m \u001b[0mop\u001b[0m\u001b[0;34m.\u001b[0m\u001b[0mget_result\u001b[0m\u001b[0;34m(\u001b[0m\u001b[0;34m)\u001b[0m\u001b[0;34m\u001b[0m\u001b[0;34m\u001b[0m\u001b[0m\n",
      "\u001b[0;32m~/Research/Transgression/tenv/lib/python3.6/site-packages/pandas/core/reshape/merge.py\u001b[0m in \u001b[0;36m__init__\u001b[0;34m(self, left, right, how, on, left_on, right_on, axis, left_index, right_index, sort, suffixes, copy, indicator, validate)\u001b[0m\n\u001b[1;32m    654\u001b[0m         \u001b[0;31m# validate the merge keys dtypes. We may need to coerce\u001b[0m\u001b[0;34m\u001b[0m\u001b[0;34m\u001b[0m\u001b[0;34m\u001b[0m\u001b[0m\n\u001b[1;32m    655\u001b[0m         \u001b[0;31m# to avoid incompatible dtypes\u001b[0m\u001b[0;34m\u001b[0m\u001b[0;34m\u001b[0m\u001b[0;34m\u001b[0m\u001b[0m\n\u001b[0;32m--> 656\u001b[0;31m         \u001b[0mself\u001b[0m\u001b[0;34m.\u001b[0m\u001b[0m_maybe_coerce_merge_keys\u001b[0m\u001b[0;34m(\u001b[0m\u001b[0;34m)\u001b[0m\u001b[0;34m\u001b[0m\u001b[0;34m\u001b[0m\u001b[0m\n\u001b[0m\u001b[1;32m    657\u001b[0m \u001b[0;34m\u001b[0m\u001b[0m\n\u001b[1;32m    658\u001b[0m         \u001b[0;31m# If argument passed to validate,\u001b[0m\u001b[0;34m\u001b[0m\u001b[0;34m\u001b[0m\u001b[0;34m\u001b[0m\u001b[0m\n",
      "\u001b[0;32m~/Research/Transgression/tenv/lib/python3.6/site-packages/pandas/core/reshape/merge.py\u001b[0m in \u001b[0;36m_maybe_coerce_merge_keys\u001b[0;34m(self)\u001b[0m\n\u001b[1;32m   1163\u001b[0m                     \u001b[0minferred_right\u001b[0m \u001b[0;32min\u001b[0m \u001b[0mstring_types\u001b[0m \u001b[0;32mand\u001b[0m \u001b[0minferred_left\u001b[0m \u001b[0;32mnot\u001b[0m \u001b[0;32min\u001b[0m \u001b[0mstring_types\u001b[0m\u001b[0;34m\u001b[0m\u001b[0;34m\u001b[0m\u001b[0m\n\u001b[1;32m   1164\u001b[0m                 ):\n\u001b[0;32m-> 1165\u001b[0;31m                     \u001b[0;32mraise\u001b[0m \u001b[0mValueError\u001b[0m\u001b[0;34m(\u001b[0m\u001b[0mmsg\u001b[0m\u001b[0;34m)\u001b[0m\u001b[0;34m\u001b[0m\u001b[0;34m\u001b[0m\u001b[0m\n\u001b[0m\u001b[1;32m   1166\u001b[0m \u001b[0;34m\u001b[0m\u001b[0m\n\u001b[1;32m   1167\u001b[0m             \u001b[0;31m# datetimelikes must match exactly\u001b[0m\u001b[0;34m\u001b[0m\u001b[0;34m\u001b[0m\u001b[0;34m\u001b[0m\u001b[0m\n",
      "\u001b[0;31mValueError\u001b[0m: You are trying to merge on object and int64 columns. If you wish to proceed you should use pd.concat"
     ]
    }
   ],
   "source": [
    "# unique_user_id_df = unique_user_id_df.rename(columns={\"user.id_str\":\"id_str\"})\n",
    "join_df = pd.merge(followers_df, unique_user_id_df, how=\"inner\", on=\"id_str\")"
   ]
  },
  {
   "cell_type": "code",
   "execution_count": null,
   "id": "2af3c2c4",
   "metadata": {},
   "outputs": [],
   "source": [
    "join_df"
   ]
  },
  {
   "cell_type": "code",
   "execution_count": null,
   "id": "aac25f42",
   "metadata": {},
   "outputs": [],
   "source": [
    "adj_matrix = pd.DataFrame(0, index=join_df[\"id_str\"].unique(), columns=join_df[\"account\"].unique())"
   ]
  },
  {
   "cell_type": "code",
   "execution_count": null,
   "id": "7f0b2bcf",
   "metadata": {},
   "outputs": [],
   "source": [
    "adj_matrix"
   ]
  },
  {
   "cell_type": "code",
   "execution_count": null,
   "id": "20659cb8",
   "metadata": {},
   "outputs": [],
   "source": []
  }
 ],
 "metadata": {
  "kernelspec": {
   "display_name": "tenv",
   "language": "python",
   "name": "tenv"
  },
  "language_info": {
   "codemirror_mode": {
    "name": "ipython",
    "version": 3
   },
   "file_extension": ".py",
   "mimetype": "text/x-python",
   "name": "python",
   "nbconvert_exporter": "python",
   "pygments_lexer": "ipython3",
   "version": "3.6.9"
  }
 },
 "nbformat": 4,
 "nbformat_minor": 5
}
