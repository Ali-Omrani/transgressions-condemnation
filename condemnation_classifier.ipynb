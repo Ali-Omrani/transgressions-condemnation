{
 "cells": [
  {
   "cell_type": "markdown",
   "id": "603d448e",
   "metadata": {},
   "source": [
    "### Loading the dataset"
   ]
  },
  {
   "cell_type": "code",
   "execution_count": 3,
   "id": "49fbfb03",
   "metadata": {},
   "outputs": [
    {
     "name": "stdout",
     "output_type": "stream",
     "text": [
      "\u001b[33mWARNING: Skipping jedi as it is not installed.\u001b[0m\r\n"
     ]
    }
   ],
   "source": [
    "!pip uninstall jedi\n",
    "from datasets import load_dataset\n",
    "from pathlib import Path"
   ]
  },
  {
   "cell_type": "code",
   "execution_count": 4,
   "id": "ca0be7bd",
   "metadata": {},
   "outputs": [],
   "source": [
    "# reading the jsonl dataset\n",
    "data_dir = Path(\"../joes_transgression_ambiguity_project/data/annotated_tweets/ta_tweets.jsonl\")\n",
    "\n",
    "import pandas as pd    \n",
    "jsonObj = pd.read_json(path_or_buf=data_dir, lines=True)\n",
    "\n"
   ]
  },
  {
   "cell_type": "code",
   "execution_count": 5,
   "id": "021f7abb",
   "metadata": {},
   "outputs": [
    {
     "data": {
      "text/plain": [
       "'reject'"
      ]
     },
     "execution_count": 5,
     "metadata": {},
     "output_type": "execute_result"
    }
   ],
   "source": [
    "jsonObj.head()[\"answer\"][2]"
   ]
  },
  {
   "cell_type": "code",
   "execution_count": 6,
   "id": "3779822d",
   "metadata": {},
   "outputs": [
    {
     "data": {
      "text/plain": [
       "Index(['text', 'meta', '_input_hash', '_task_hash', 'label', 'score',\n",
       "       'priority', 'spans', '_session_id', '_view_id', 'answer'],\n",
       "      dtype='object')"
      ]
     },
     "execution_count": 6,
     "metadata": {},
     "output_type": "execute_result"
    }
   ],
   "source": [
    "jsonObj.columns"
   ]
  },
  {
   "cell_type": "markdown",
   "id": "b849720e",
   "metadata": {},
   "source": [
    "### Huggingface dataset loading script\n",
    "can be used later to publish the dataset on huggingface hub for better outreach"
   ]
  },
  {
   "cell_type": "code",
   "execution_count": 47,
   "id": "53cb7bab",
   "metadata": {},
   "outputs": [
    {
     "ename": "SyntaxError",
     "evalue": "invalid syntax (<ipython-input-47-9df887cb1a05>, line 1)",
     "output_type": "error",
     "traceback": [
      "\u001b[0;36m  File \u001b[0;32m\"<ipython-input-47-9df887cb1a05>\"\u001b[0;36m, line \u001b[0;32m1\u001b[0m\n\u001b[0;31m    dataset = load_dataset(\"jsonl\", data_files= ../joes_transgression_ambiguity_project/data/annotated_tweets/ta_tweets.jsonl)\u001b[0m\n\u001b[0m                                                ^\u001b[0m\n\u001b[0;31mSyntaxError\u001b[0m\u001b[0;31m:\u001b[0m invalid syntax\n"
     ]
    }
   ],
   "source": [
    "dataset = load_dataset(\"jsonl\", data_files= ../joes_transgression_ambiguity_project/data/annotated_tweets/ta_tweets.jsonl)"
   ]
  },
  {
   "cell_type": "markdown",
   "id": "734138b3",
   "metadata": {},
   "source": [
    "### Testing the dataset loading script"
   ]
  },
  {
   "cell_type": "code",
   "execution_count": 26,
   "id": "d96bed9c",
   "metadata": {
    "scrolled": true
   },
   "outputs": [
    {
     "name": "stderr",
     "output_type": "stream",
     "text": [
      "Using custom data configuration condemnation-3bcd13f68545b6d6\n"
     ]
    },
    {
     "name": "stdout",
     "output_type": "stream",
     "text": [
      "in info\n",
      "Downloading and preparing dataset condemnation_dataset/condemnation (download: Unknown size, generated: Unknown size, post-processed: Unknown size, total: Unknown size) to /home/geev/.cache/huggingface/datasets/condemnation_dataset/condemnation-3bcd13f68545b6d6/1.1.0/2d11a89d403f72a2f7ba5445f34e4a087d9bcba4725de34905e15c20bd4e82fe...\n"
     ]
    },
    {
     "data": {
      "application/vnd.jupyter.widget-view+json": {
       "model_id": "",
       "version_major": 2,
       "version_minor": 0
      },
      "text/plain": [
       "0 examples [00:00, ? examples/s]"
      ]
     },
     "metadata": {},
     "output_type": "display_data"
    },
    {
     "name": "stdout",
     "output_type": "stream",
     "text": [
      "filepath my_dataset_loading_script/ta_tweets.jsonl\n",
      "{'text': 'Rose McGowan accuses <TARGET> of Rape - News Today - Breaking News https://t.co/q8AWAgxmwP via @YouTube', 'meta': {'tweet_id': '924121799004057600', 'body_target_mentions_target': 'weinstein', 'quoted_status_target_mentions': None, 'score': 0.5066827536}, '_input_hash': 1814849179, '_task_hash': -1213763831, 'label': 'condemnation', 'score': 0.5066827536, 'priority': 0.5066827536, 'spans': [], '_session_id': 'ta_tweets-test', '_view_id': 'classification', 'answer': 'reject'}\n",
      "{'text': 'Over 300 Claims Against <TARGET>! https://t.co/6ztiuplOpl', 'meta': {'tweet_id': '924121911583526912', 'body_target_mentions_target': 'toback', 'quoted_status_target_mentions': None, 'score': 0.4642074704}, '_input_hash': 1276310490, '_task_hash': -302313038, 'label': 'condemnation', 'score': 0.4642074704, 'priority': 0.4642074704, 'spans': [], '_session_id': 'ta_tweets-test', '_view_id': 'classification', 'answer': 'reject'}\n",
      "{'text': 'It’s horrible how companies are trying to benefit from the sexual harassment case of Mr. <TARGET> https://t.co/WDKNKUPsV0', 'meta': {'tweet_id': '924122038196940800', 'body_target_mentions_target': 'weinstein', 'quoted_status_target_mentions': ['weinstein'], 'score': 0.4546828866}, '_input_hash': 524954191, '_task_hash': -53655055, 'label': 'condemnation', 'score': 0.4546828866, 'priority': 0.4546828866, 'spans': [], '_session_id': 'ta_tweets-test', '_view_id': 'classification', 'answer': 'reject'}\n",
      "{'text': '@SabiieeyyCel Sweet naman <TARGET>', 'meta': {'tweet_id': '924121076547837952', 'body_target_mentions_target': 'besh', 'quoted_status_target_mentions': None, 'score': 0.4431618452}, '_input_hash': 1296990163, '_task_hash': 1967692387, 'label': 'condemnation', 'score': 0.4431618452, 'priority': 0.4431618452, 'spans': [], '_session_id': 'ta_tweets-test', '_view_id': 'classification', 'answer': 'reject'}\n",
      "{'text': \"George Clooney, Matt Damon Speak Out Against <TARGET> On 'GMA' https://t.co/BvmzMiyAu5\", 'meta': {'tweet_id': '924121072794038273', 'body_target_mentions_target': 'weinstein', 'quoted_status_target_mentions': None, 'score': 0.5716965199}, '_input_hash': -1588525542, '_task_hash': -1778674840, 'label': 'condemnation', 'score': 0.5716965199, 'priority': 0.5716965199, 'spans': [], '_session_id': 'ta_tweets-test', '_view_id': 'classification', 'answer': 'reject'}\n",
      "{'text': '@Cap_Kaveman @funnyordie <TARGET> doesn’t look so bad now, huh? Too soon?', 'meta': {'tweet_id': '924121514521198593', 'body_target_mentions_target': 'weinstein', 'quoted_status_target_mentions': None, 'score': 0.4153237641}, '_input_hash': -896079301, '_task_hash': -154997466, 'label': 'condemnation', 'score': 0.4153237641, 'priority': 0.4153237641, 'spans': [], '_session_id': 'ta_tweets-test', '_view_id': 'classification', 'answer': 'reject'}\n",
      "{'text': 'Nike SB Highlights <TARGET> Baker in New Profile Video via @HYPEBEAST\\n https://t.co/CCDHFixeKP', 'meta': {'tweet_id': '924121145703514112', 'body_target_mentions_target': 'lacey', 'quoted_status_target_mentions': None, 'score': 0.5938529968}, '_input_hash': 1251451373, '_task_hash': -693992143, 'label': 'condemnation', 'score': 0.5938529968, 'priority': 0.5938529968, 'spans': [], '_session_id': 'ta_tweets-test', '_view_id': 'classification', 'answer': 'reject'}\n",
      "{'text': 'Why <TARGET> is not in jail yet?\\n@TheJusticeDept @CNN https://t.co/DnSNrOkf5T', 'meta': {'tweet_id': '924121885566210048', 'body_target_mentions_target': 'weinstein', 'quoted_status_target_mentions': None, 'score': 0.5941052437}, '_input_hash': -1696345317, '_task_hash': 141661886, 'label': 'condemnation', 'score': 0.5941052437, 'priority': 0.5941052437, 'spans': [], '_session_id': 'ta_tweets-test', '_view_id': 'classification', 'answer': 'accept'}\n",
      "{'text': \"@scienceisreal13 @CNN But, you're defending @CNN trying to distract from <TARGET> and the rest of Hollywood. O'Reilly had his moment of shame.\", 'meta': {'tweet_id': '924121538818924544', 'body_target_mentions_target': 'weinstein', 'quoted_status_target_mentions': None, 'score': 0.3939165175}, '_input_hash': 770118264, '_task_hash': -210045324, 'label': 'condemnation', 'score': 0.3939165175, 'priority': 0.3939165175, 'spans': [], '_session_id': 'ta_tweets-test', '_view_id': 'classification', 'answer': 'accept'}\n",
      "{'text': '@TheJoyKurdi Be <TARGET> again', 'meta': {'tweet_id': '924121393117237248', 'body_target_mentions_target': 'blaine', 'quoted_status_target_mentions': None, 'score': 0.3759473562}, '_input_hash': -1074231043, '_task_hash': 358284679, 'label': 'condemnation', 'score': 0.3759473562, 'priority': 0.3759473562, 'spans': [], '_session_id': 'ta_tweets-test', '_view_id': 'classification', 'answer': 'reject'}\n",
      "{'text': '@DailyCaller @dhookstead Ellen sexual harassing did she learn that from <TARGET>', 'meta': {'tweet_id': '924121772441686016', 'body_target_mentions_target': 'weinstein', 'quoted_status_target_mentions': None, 'score': 0.3705962598}, '_input_hash': 102109382, '_task_hash': -266463248, 'label': 'condemnation', 'score': 0.3705962598, 'priority': 0.3705962598, 'spans': [], '_session_id': 'ta_tweets-test', '_view_id': 'classification', 'answer': 'reject'}\n",
      "{'text': '<TARGET> accused of sexual assault by two more women https://t.co/c3XEIi2WD4 https://t.co/tfvaeBeHKr', 'meta': {'tweet_id': '924121057073565696', 'body_target_mentions_target': 'halperin', 'quoted_status_target_mentions': None, 'score': 0.3404895961}, '_input_hash': 803247796, '_task_hash': -216377135, 'label': 'condemnation', 'score': 0.3404895961, 'priority': 0.3404895961, 'spans': [], '_session_id': 'ta_tweets-test', '_view_id': 'classification', 'answer': 'reject'}\n",
      "{'text': '@BillOReilly Same media that covered for <TARGET> and pedophilia in Hollywood. Not so surprising.', 'meta': {'tweet_id': '924121705416622080', 'body_target_mentions_target': 'weinstein', 'quoted_status_target_mentions': None, 'score': 0.1019686759}, '_input_hash': 1200443694, '_task_hash': 1816901984, 'label': 'condemnation', 'score': 0.1019686759, 'priority': 0.1019686759, 'spans': [], '_session_id': 'ta_tweets-test', '_view_id': 'classification', 'answer': 'accept'}\n",
      "{'text': 'Weighing the Costs of Speaking Out About <TARGET> https://t.co/3N3g2aTlUy', 'meta': {'tweet_id': '924121519227154432', 'body_target_mentions_target': 'weinstein', 'quoted_status_target_mentions': None, 'score': 0.1003334746}, '_input_hash': 741090183, '_task_hash': 1044297407, 'label': 'condemnation', 'score': 0.1003334746, 'priority': 0.1003334746, 'spans': [], '_session_id': 'ta_tweets-test', '_view_id': 'classification', 'answer': 'reject'}\n",
      "{'text': \"I'll never see <TARGET> again w/o visualizing him pressing his penis on young unwilling women. Disgusting. @Morning_Joe @JoeNBC\", 'meta': {'tweet_id': '924121885734039553', 'body_target_mentions_target': 'halperin', 'quoted_status_target_mentions': None, 'score': 0.2442142814}, '_input_hash': -1479956896, '_task_hash': 264780111, 'label': 'condemnation', 'score': 0.2442142814, 'priority': 0.2442142814, 'spans': [], '_session_id': 'ta_tweets-test', '_view_id': 'classification', 'answer': 'accept'}\n",
      "{'text': 'thanks <TARGET>😭😭😭 thanks for always being here for me! love you so so much💗 https://t.co/F3RBDPwMl2', 'meta': {'tweet_id': '924121553582936064', 'body_target_mentions_target': 'lacey', 'quoted_status_target_mentions': None, 'score': 0.4998016655}, '_input_hash': -568468259, '_task_hash': -1374532188, 'label': 'condemnation', 'score': 0.4998016655, 'priority': 0.4998016655, 'spans': [], '_session_id': 'ta_tweets-test2', '_view_id': 'classification', 'answer': 'reject'}\n",
      "{'text': \"<TARGET> apologizes for 'aggressive and crude' behavior toward women… https://t.co/wU6M2hrnDP bench #Lifestyle\", 'meta': {'tweet_id': '924121315761586176', 'body_target_mentions_target': 'halperin', 'quoted_status_target_mentions': None, 'score': 0.4669130147}, '_input_hash': 571695367, '_task_hash': 398448599, 'label': 'condemnation', 'score': 0.4669130147, 'priority': 0.4669130147, 'spans': [], '_session_id': 'ta_tweets-test2', '_view_id': 'classification', 'answer': 'reject'}\n",
      "{'text': '@Missy314 <TARGET> walked him to school..... Draymond would put him in the dirt', 'meta': {'tweet_id': '924122075450757121', 'body_target_mentions_target': 'nelly', 'quoted_status_target_mentions': None, 'score': 0.5395108461}, '_input_hash': -784677738, '_task_hash': 1911676406, 'label': 'condemnation', 'score': 0.5395108461, 'priority': 0.5395108461, 'spans': [], '_session_id': 'ta_tweets-test2', '_view_id': 'classification', 'answer': 'reject'}\n",
      "{'text': '@mobilematt @LOLGOP @<TARGET>_lori But, but, but Franklin Graham and other Evangelicals said he is God’s choice because he’s a Christian. They aren’t liars, are they?', 'meta': {'tweet_id': '924122158602838016', 'body_target_mentions_target': 'seagal', 'quoted_status_target_mentions': None, 'score': 0.4563571811}, '_input_hash': -663770097, '_task_hash': 1444937249, 'label': 'condemnation', 'score': 0.4563571811, 'priority': 0.4563571811, 'spans': [], '_session_id': 'ta_tweets-test2', '_view_id': 'classification', 'answer': 'reject'}\n",
      "{'text': \"@TheJamesHoner @twitwar2017 <TARGET> isn't the fucking president! How did this comparison actually occupy your brain?\", 'meta': {'tweet_id': '924122088142540801', 'body_target_mentions_target': 'weinstein', 'quoted_status_target_mentions': None, 'score': 0.4536896944}, '_input_hash': 526259406, '_task_hash': 388679913, 'label': 'condemnation', 'score': 0.4536896944, 'priority': 0.4536896944, 'spans': [], '_session_id': 'ta_tweets-test2', '_view_id': 'classification', 'answer': 'reject'}\n"
     ]
    },
    {
     "name": "stdout",
     "output_type": "stream",
     "text": [
      "{'text': 'Four more women accuse <TARGET> of harassment, bringing total to at least a dozen https://t.co/7S5mmCBJGr https://t.co/LkfWrDcVb1', 'meta': {'tweet_id': '924121063482707968', 'body_target_mentions_target': 'halperin', 'quoted_status_target_mentions': None, 'score': 0.4488814175}, '_input_hash': -241144955, '_task_hash': 1040848974, 'label': 'condemnation', 'score': 0.4488814175, 'priority': 0.4488814175, 'spans': [], '_session_id': 'ta_tweets-test2', '_view_id': 'classification', 'answer': 'reject'}\n",
      "{'text': '@TheFirstBladc » “I do love you. . I love you, <TARGET>. .”', 'meta': {'tweet_id': '924121113914875904', 'body_target_mentions_target': 'blaine', 'quoted_status_target_mentions': None, 'score': 0.4436924756}, '_input_hash': 164791188, '_task_hash': 489199799, 'label': 'condemnation', 'score': 0.4436924756, 'priority': 0.4436924756, 'spans': [], '_session_id': 'ta_tweets-test2', '_view_id': 'classification', 'answer': 'reject'}\n",
      "{'text': '<TARGET>, Hefner and the Poor Excuse that Explains a Lot via @NYTimes https://t.co/AWccYrHnSg', 'meta': {'tweet_id': '924121885088059392', 'body_target_mentions_target': 'weinstein', 'quoted_status_target_mentions': None, 'score': 0.4384175539}, '_input_hash': -772767723, '_task_hash': -912184629, 'label': 'condemnation', 'score': 0.4384175539, 'priority': 0.4384175539, 'spans': [], '_session_id': 'ta_tweets-test2', '_view_id': 'classification', 'answer': 'reject'}\n",
      "{'text': 'From the famed NYT movie critic, on <TARGET> ⬇️ thread: https://t.co/3bfwR3C5Ww', 'meta': {'tweet_id': '924121315950387201', 'body_target_mentions_target': 'toback', 'quoted_status_target_mentions': [], 'score': 0.4377569258}, '_input_hash': 1870753076, '_task_hash': -1116460230, 'label': 'condemnation', 'score': 0.4377569258, 'priority': 0.4377569258, 'spans': [], '_session_id': 'ta_tweets-test2', '_view_id': 'classification', 'answer': 'reject'}\n",
      "{'text': 'Cielo (<TARGET>): Esta noche full time bebe https://t.co/uQhchRjIDZ https://t.co/zVW5Cbg5tw', 'meta': {'tweet_id': '924122193533063169', 'body_target_mentions_target': 'mendoza', 'quoted_status_target_mentions': None, 'score': 0.5813475251}, '_input_hash': 975567333, '_task_hash': 289415782, 'label': 'condemnation', 'score': 0.5813475251, 'priority': 0.5813475251, 'spans': [], '_session_id': 'ta_tweets-test2', '_view_id': 'classification', 'answer': 'reject'}\n",
      "{'text': \"If you're a Law &amp; Order: Criminal Intent fan, this just got personal https://t.co/7mcKsXSMw8 #<TARGET><TARGET> #HimThough #MeToo\", 'meta': {'tweet_id': '924121404315963392', 'body_target_mentions_target': 'weinstein', 'quoted_status_target_mentions': None, 'score': 0.5826941133}, '_input_hash': 732898423, '_task_hash': 754206805, 'label': 'condemnation', 'score': 0.5826941133, 'priority': 0.5826941133, 'spans': [], '_session_id': 'ta_tweets-test2', '_view_id': 'classification', 'answer': 'reject'}\n",
      "{'text': '“Pervert politicians”: why the <TARGET> effect could hit Westminster hardest https://t.co/c3IXgWIfOD', 'meta': {'tweet_id': '924121414709448704', 'body_target_mentions_target': 'weinstein', 'quoted_status_target_mentions': None, 'score': 0.4162029028}, '_input_hash': 1665723590, '_task_hash': -651388936, 'label': 'condemnation', 'score': 0.4162029028, 'priority': 0.4162029028, 'spans': [], '_session_id': 'ta_tweets-test2', '_view_id': 'classification', 'answer': 'reject'}\n",
      "{'text': \"After Parting Ways With <TARGET>, Tarantino's Manson Family Movie Becomes Subject Of A… https://t.co/z7fBCgGLu0\", 'meta': {'tweet_id': '924122378728300544', 'body_target_mentions_target': 'weinstein', 'quoted_status_target_mentions': None, 'score': 0.4170163274}, '_input_hash': 260225488, '_task_hash': -1648179921, 'label': 'condemnation', 'score': 0.4170163274, 'priority': 0.4170163274, 'spans': [], '_session_id': 'ta_tweets-test2', '_view_id': 'classification', 'answer': 'reject'}\n",
      "{'text': 'More Women Accuse <TARGET> of Harassment... https://t.co/JBlb9RFXhV', 'meta': {'tweet_id': '924121919162671104', 'body_target_mentions_target': 'halperin', 'quoted_status_target_mentions': None, 'score': 0.3203881383}, '_input_hash': 1396081826, '_task_hash': -2072576580, 'label': 'condemnation', 'score': 0.3203881383, 'priority': 0.3203881383, 'spans': [], '_session_id': 'ta_tweets-test2', '_view_id': 'classification', 'answer': 'reject'}\n",
      "{'text': '‘I don’t want to sit on your lap,’ she thought. But, she alleges, <TARGET> insisted. https://t.co/lRqH1PU84m via @BFT_Podcast', 'meta': {'tweet_id': '924122216584925184', 'body_target_mentions_target': 'halperin', 'quoted_status_target_mentions': None, 'score': 0.5103315115}, '_input_hash': 327403861, '_task_hash': -188443636, 'label': 'condemnation', 'score': 0.5103315115, 'priority': 0.5103315115, 'spans': [], '_session_id': 'ta_tweets-test2', '_view_id': 'classification', 'answer': 'reject'}\n",
      "{'text': 'https://t.co/f0AaPsORdP #BlastFMCountry ♪ Florida Georgia Line - Cruise (Remix) Ft. <TARGET> ♪ 28-10-2017 04:59:01', 'meta': {'tweet_id': '924123313403809792', 'body_target_mentions_target': 'nelly', 'quoted_status_target_mentions': None, 'score': 0.5657128692}, '_input_hash': 829758296, '_task_hash': -2058070810, 'label': 'condemnation', 'score': 0.5657128692, 'priority': 0.5657128692, 'spans': [], '_session_id': 'ta_tweets-test2', '_view_id': 'classification', 'answer': 'reject'}\n",
      "{'text': '@RealJamesWoods As soon as we stop tolerating your sexist and pedophilia...as bad as <TARGET>...', 'meta': {'tweet_id': '924121777797701632', 'body_target_mentions_target': 'weinstein', 'quoted_status_target_mentions': None, 'score': 0.3379083276}, '_input_hash': -1635577596, '_task_hash': -1994990710, 'label': 'condemnation', 'score': 0.3379083276, 'priority': 0.3379083276, 'spans': [], '_session_id': 'ta_tweets-test2', '_view_id': 'classification', 'answer': 'reject'}\n",
      "{'text': '“Trump accusers clearly lies.”\\n\\n“<TARGET> accusers heroes for coming forward.” https://t.co/lldzfg50jP', 'meta': {'tweet_id': '924123141479202816', 'body_target_mentions_target': 'weinstein', 'quoted_status_target_mentions': ['weinstein'], 'score': 0.3255190253}, '_input_hash': -647673443, '_task_hash': 95472466, 'label': 'condemnation', 'score': 0.3255190253, 'priority': 0.3255190253, 'spans': [], '_session_id': 'ta_tweets-test2', '_view_id': 'classification', 'answer': 'reject'}\n",
      "{'text': '@_Esther_<TARGET> Girl no one is talking about you, stop always trying to include yourself', 'meta': {'tweet_id': '924122446218719232', 'body_target_mentions_target': 'mendoza', 'quoted_status_target_mentions': None, 'score': 0.545940876}, '_input_hash': -1543099165, '_task_hash': 1462521222, 'label': 'condemnation', 'score': 0.545940876, 'priority': 0.545940876, 'spans': [], '_session_id': 'ta_tweets-test2', '_view_id': 'classification', 'answer': 'reject'}\n",
      "{'text': \"@jaketapper @RonanFarrow <TARGET> does not belong in this country and this time. I don't even think the cavemen would have tolerated it.\", 'meta': {'tweet_id': '924122523846848512', 'body_target_mentions_target': 'weinstein', 'quoted_status_target_mentions': None, 'score': 0.4884682596}, '_input_hash': -910272021, '_task_hash': -1938608090, 'label': 'condemnation', 'score': 0.4884682596, 'priority': 0.4884682596, 'spans': [], '_session_id': 'ta_tweets-test2', '_view_id': 'classification', 'answer': 'accept'}\n",
      "{'text': 'It’s Time for Donald Trump to be <TARGET>ed | National Review https://t.co/q52wCePoNx', 'meta': {'tweet_id': '924122568407347201', 'body_target_mentions_target': 'weinstein', 'quoted_status_target_mentions': None, 'score': 0.3228727579}, '_input_hash': -1496221180, '_task_hash': -1257756955, 'label': 'condemnation', 'score': 0.3228727579, 'priority': 0.3228727579, 'spans': [], '_session_id': 'ta_tweets-test2', '_view_id': 'classification', 'answer': 'reject'}\n",
      "{'text': 'New <TARGET> sexual assault accusations emerge https://t.co/WPPTYRrm3T https://t.co/U3eDtORK1T', 'meta': {'tweet_id': '924122827732656128', 'body_target_mentions_target': 'weinstein', 'quoted_status_target_mentions': None, 'score': 0.3465416133}, '_input_hash': -203836779, '_task_hash': -1327743453, 'label': 'condemnation', 'score': 0.3465416133, 'priority': 0.3465416133, 'spans': [], '_session_id': 'ta_tweets-test2', '_view_id': 'classification', 'answer': 'reject'}\n",
      "{'text': 'New <TARGET> sexual assault accusations emerge via the @FoxNews App https://t.co/4gyrDF8WHe', 'meta': {'tweet_id': '924122873790218240', 'body_target_mentions_target': 'weinstein', 'quoted_status_target_mentions': None, 'score': 0.3585190177}, '_input_hash': 630066531, '_task_hash': 151307863, 'label': 'condemnation', 'score': 0.3585190177, 'priority': 0.3585190177, 'spans': [], '_session_id': 'ta_tweets-test2', '_view_id': 'classification', 'answer': 'reject'}\n",
      "{'text': 'Who advised #<TARGET><TARGET> on his overly contrived #apology. Seems likely to invite pre-and-post #ABC #MeToo victims? https://t.co/gBo9iG3wzS', 'meta': {'tweet_id': '924123334102614016', 'body_target_mentions_target': 'halperin', 'quoted_status_target_mentions': None, 'score': 0.2272523046}, '_input_hash': -1602415481, '_task_hash': -1429060382, 'label': 'condemnation', 'score': 0.2272523046, 'priority': 0.2272523046, 'spans': [], '_session_id': 'ta_tweets-test2', '_view_id': 'classification', 'answer': 'reject'}\n",
      "{'text': 'Mix - <TARGET> - The Champ (Bowl Week): https://t.co/qSMEYOOPc0 💪🌹', 'meta': {'tweet_id': '924122415604600832', 'body_target_mentions_target': 'nelly', 'quoted_status_target_mentions': None, 'score': 0.408231616}, '_input_hash': -1626006843, '_task_hash': -1634387856, 'label': 'condemnation', 'score': 0.408231616, 'priority': 0.408231616, 'spans': [], '_session_id': 'ta_tweets-test2', '_view_id': 'classification', 'answer': 'reject'}\n",
      "{'text': '<TARGET> Apologizes to Women He ‘Mistreated’ https://t.co/6iN7pPmrsJ #NYT #Business', 'meta': {'tweet_id': '924123327249051648', 'body_target_mentions_target': 'halperin', 'quoted_status_target_mentions': None, 'score': 0.3726925254}, '_input_hash': -2088676898, '_task_hash': -1516440065, 'label': 'condemnation', 'score': 0.3726925254, 'priority': 0.3726925254, 'spans': [], '_session_id': 'ta_tweets-test2', '_view_id': 'classification', 'answer': 'reject'}\n",
      "{'text': '@washingtonpost Obviously. All of the conspiracies about Clinton and <TARGET> accusers are all to be taken as truth. Anything against trumpy is fake news 🙄', 'meta': {'tweet_id': '924123412489846784', 'body_target_mentions_target': 'weinstein', 'quoted_status_target_mentions': None, 'score': 0.3900079429}, '_input_hash': -1729874597, '_task_hash': 341544194, 'label': 'condemnation', 'score': 0.3900079429, 'priority': 0.3900079429, 'spans': [], '_session_id': 'ta_tweets-test2', '_view_id': 'classification', 'answer': 'reject'}\n",
      "{'text': 'New <TARGET> sexual assault accusations emerge - https://t.co/grqwhgRkOU https://t.co/UMhvkzQ0na', 'meta': {'tweet_id': '924122655128784897', 'body_target_mentions_target': 'weinstein', 'quoted_status_target_mentions': None, 'score': 0.4088194072}, '_input_hash': 1471600880, '_task_hash': 1366019359, 'label': 'condemnation', 'score': 0.4088194072, 'priority': 0.4088194072, 'spans': [], '_session_id': 'ta_tweets-test2', '_view_id': 'classification', 'answer': 'reject'}\n",
      "{'text': '<TARGET> Targeted College Girls Too #NewsGrit https://t.co/hlNan38Q6C', 'meta': {'tweet_id': '924122947723382786', 'body_target_mentions_target': 'halperin', 'quoted_status_target_mentions': None, 'score': 0.3503395319}, '_input_hash': -869096413, '_task_hash': 119518098, 'label': 'condemnation', 'score': 0.3503395319, 'priority': 0.3503395319, 'spans': [], '_session_id': 'ta_tweets-test2', '_view_id': 'classification', 'answer': 'reject'}\n",
      "{'text': 'I’m one of the women accusing <TARGET> of sexual harassment. He’s part of a much bigger problem. - https://t.co/TYizlVoWim', 'meta': {'tweet_id': '924123260777914369', 'body_target_mentions_target': 'halperin', 'quoted_status_target_mentions': None, 'score': 0.4565391839}, '_input_hash': 826151338, '_task_hash': -1637220125, 'label': 'condemnation', 'score': 0.4565391839, 'priority': 0.4565391839, 'spans': [], '_session_id': 'ta_tweets-test2', '_view_id': 'classification', 'answer': 'accept'}\n",
      "{'text': 'thanks <TARGET>😭😭😭 thanks for always being here for me! love you so so much💗 https://t.co/F3RBDPwMl2', 'meta': {'tweet_id': '924121553582936064', 'body_target_mentions_target': 'lacey', 'quoted_status_target_mentions': None, 'score': 0.4998016655}, '_input_hash': -568468259, '_task_hash': -1374532188, 'label': 'condemnation', 'score': 0.4998016655, 'priority': 0.4998016655, 'spans': [], '_session_id': 'ta_tweets-test3', '_view_id': 'classification', 'answer': 'reject'}\n",
      "{'text': \"<TARGET> apologizes for 'aggressive and crude' behavior toward women… https://t.co/wU6M2hrnDP bench #Lifestyle\", 'meta': {'tweet_id': '924121315761586176', 'body_target_mentions_target': 'halperin', 'quoted_status_target_mentions': None, 'score': 0.4669130147}, '_input_hash': 571695367, '_task_hash': 398448599, 'label': 'condemnation', 'score': 0.4669130147, 'priority': 0.4669130147, 'spans': [], '_session_id': 'ta_tweets-test3', '_view_id': 'classification', 'answer': 'reject'}\n",
      "{'text': '@Missy314 <TARGET> walked him to school..... Draymond would put him in the dirt', 'meta': {'tweet_id': '924122075450757121', 'body_target_mentions_target': 'nelly', 'quoted_status_target_mentions': None, 'score': 0.5395108461}, '_input_hash': -784677738, '_task_hash': 1911676406, 'label': 'condemnation', 'score': 0.5395108461, 'priority': 0.5395108461, 'spans': [], '_session_id': 'ta_tweets-test3', '_view_id': 'classification', 'answer': 'reject'}\n"
     ]
    },
    {
     "data": {
      "application/vnd.jupyter.widget-view+json": {
       "model_id": "",
       "version_major": 2,
       "version_minor": 0
      },
      "text/plain": [
       "0 examples [00:00, ? examples/s]"
      ]
     },
     "metadata": {},
     "output_type": "display_data"
    },
    {
     "name": "stdout",
     "output_type": "stream",
     "text": [
      "filepath my_dataset_loading_script/ta_tweets.jsonl\n",
      "{'text': 'Rose McGowan accuses <TARGET> of Rape - News Today - Breaking News https://t.co/q8AWAgxmwP via @YouTube', 'meta': {'tweet_id': '924121799004057600', 'body_target_mentions_target': 'weinstein', 'quoted_status_target_mentions': None, 'score': 0.5066827536}, '_input_hash': 1814849179, '_task_hash': -1213763831, 'label': 'condemnation', 'score': 0.5066827536, 'priority': 0.5066827536, 'spans': [], '_session_id': 'ta_tweets-test', '_view_id': 'classification', 'answer': 'reject'}\n",
      "{'text': 'Over 300 Claims Against <TARGET>! https://t.co/6ztiuplOpl', 'meta': {'tweet_id': '924121911583526912', 'body_target_mentions_target': 'toback', 'quoted_status_target_mentions': None, 'score': 0.4642074704}, '_input_hash': 1276310490, '_task_hash': -302313038, 'label': 'condemnation', 'score': 0.4642074704, 'priority': 0.4642074704, 'spans': [], '_session_id': 'ta_tweets-test', '_view_id': 'classification', 'answer': 'reject'}\n",
      "{'text': 'It’s horrible how companies are trying to benefit from the sexual harassment case of Mr. <TARGET> https://t.co/WDKNKUPsV0', 'meta': {'tweet_id': '924122038196940800', 'body_target_mentions_target': 'weinstein', 'quoted_status_target_mentions': ['weinstein'], 'score': 0.4546828866}, '_input_hash': 524954191, '_task_hash': -53655055, 'label': 'condemnation', 'score': 0.4546828866, 'priority': 0.4546828866, 'spans': [], '_session_id': 'ta_tweets-test', '_view_id': 'classification', 'answer': 'reject'}\n",
      "{'text': '@SabiieeyyCel Sweet naman <TARGET>', 'meta': {'tweet_id': '924121076547837952', 'body_target_mentions_target': 'besh', 'quoted_status_target_mentions': None, 'score': 0.4431618452}, '_input_hash': 1296990163, '_task_hash': 1967692387, 'label': 'condemnation', 'score': 0.4431618452, 'priority': 0.4431618452, 'spans': [], '_session_id': 'ta_tweets-test', '_view_id': 'classification', 'answer': 'reject'}\n",
      "{'text': \"George Clooney, Matt Damon Speak Out Against <TARGET> On 'GMA' https://t.co/BvmzMiyAu5\", 'meta': {'tweet_id': '924121072794038273', 'body_target_mentions_target': 'weinstein', 'quoted_status_target_mentions': None, 'score': 0.5716965199}, '_input_hash': -1588525542, '_task_hash': -1778674840, 'label': 'condemnation', 'score': 0.5716965199, 'priority': 0.5716965199, 'spans': [], '_session_id': 'ta_tweets-test', '_view_id': 'classification', 'answer': 'reject'}\n",
      "{'text': '@Cap_Kaveman @funnyordie <TARGET> doesn’t look so bad now, huh? Too soon?', 'meta': {'tweet_id': '924121514521198593', 'body_target_mentions_target': 'weinstein', 'quoted_status_target_mentions': None, 'score': 0.4153237641}, '_input_hash': -896079301, '_task_hash': -154997466, 'label': 'condemnation', 'score': 0.4153237641, 'priority': 0.4153237641, 'spans': [], '_session_id': 'ta_tweets-test', '_view_id': 'classification', 'answer': 'reject'}\n",
      "{'text': 'Nike SB Highlights <TARGET> Baker in New Profile Video via @HYPEBEAST\\n https://t.co/CCDHFixeKP', 'meta': {'tweet_id': '924121145703514112', 'body_target_mentions_target': 'lacey', 'quoted_status_target_mentions': None, 'score': 0.5938529968}, '_input_hash': 1251451373, '_task_hash': -693992143, 'label': 'condemnation', 'score': 0.5938529968, 'priority': 0.5938529968, 'spans': [], '_session_id': 'ta_tweets-test', '_view_id': 'classification', 'answer': 'reject'}\n",
      "{'text': 'Why <TARGET> is not in jail yet?\\n@TheJusticeDept @CNN https://t.co/DnSNrOkf5T', 'meta': {'tweet_id': '924121885566210048', 'body_target_mentions_target': 'weinstein', 'quoted_status_target_mentions': None, 'score': 0.5941052437}, '_input_hash': -1696345317, '_task_hash': 141661886, 'label': 'condemnation', 'score': 0.5941052437, 'priority': 0.5941052437, 'spans': [], '_session_id': 'ta_tweets-test', '_view_id': 'classification', 'answer': 'accept'}\n",
      "{'text': \"@scienceisreal13 @CNN But, you're defending @CNN trying to distract from <TARGET> and the rest of Hollywood. O'Reilly had his moment of shame.\", 'meta': {'tweet_id': '924121538818924544', 'body_target_mentions_target': 'weinstein', 'quoted_status_target_mentions': None, 'score': 0.3939165175}, '_input_hash': 770118264, '_task_hash': -210045324, 'label': 'condemnation', 'score': 0.3939165175, 'priority': 0.3939165175, 'spans': [], '_session_id': 'ta_tweets-test', '_view_id': 'classification', 'answer': 'accept'}\n",
      "{'text': '@TheJoyKurdi Be <TARGET> again', 'meta': {'tweet_id': '924121393117237248', 'body_target_mentions_target': 'blaine', 'quoted_status_target_mentions': None, 'score': 0.3759473562}, '_input_hash': -1074231043, '_task_hash': 358284679, 'label': 'condemnation', 'score': 0.3759473562, 'priority': 0.3759473562, 'spans': [], '_session_id': 'ta_tweets-test', '_view_id': 'classification', 'answer': 'reject'}\n",
      "{'text': '@DailyCaller @dhookstead Ellen sexual harassing did she learn that from <TARGET>', 'meta': {'tweet_id': '924121772441686016', 'body_target_mentions_target': 'weinstein', 'quoted_status_target_mentions': None, 'score': 0.3705962598}, '_input_hash': 102109382, '_task_hash': -266463248, 'label': 'condemnation', 'score': 0.3705962598, 'priority': 0.3705962598, 'spans': [], '_session_id': 'ta_tweets-test', '_view_id': 'classification', 'answer': 'reject'}\n",
      "{'text': '<TARGET> accused of sexual assault by two more women https://t.co/c3XEIi2WD4 https://t.co/tfvaeBeHKr', 'meta': {'tweet_id': '924121057073565696', 'body_target_mentions_target': 'halperin', 'quoted_status_target_mentions': None, 'score': 0.3404895961}, '_input_hash': 803247796, '_task_hash': -216377135, 'label': 'condemnation', 'score': 0.3404895961, 'priority': 0.3404895961, 'spans': [], '_session_id': 'ta_tweets-test', '_view_id': 'classification', 'answer': 'reject'}\n",
      "{'text': '@BillOReilly Same media that covered for <TARGET> and pedophilia in Hollywood. Not so surprising.', 'meta': {'tweet_id': '924121705416622080', 'body_target_mentions_target': 'weinstein', 'quoted_status_target_mentions': None, 'score': 0.1019686759}, '_input_hash': 1200443694, '_task_hash': 1816901984, 'label': 'condemnation', 'score': 0.1019686759, 'priority': 0.1019686759, 'spans': [], '_session_id': 'ta_tweets-test', '_view_id': 'classification', 'answer': 'accept'}\n",
      "{'text': 'Weighing the Costs of Speaking Out About <TARGET> https://t.co/3N3g2aTlUy', 'meta': {'tweet_id': '924121519227154432', 'body_target_mentions_target': 'weinstein', 'quoted_status_target_mentions': None, 'score': 0.1003334746}, '_input_hash': 741090183, '_task_hash': 1044297407, 'label': 'condemnation', 'score': 0.1003334746, 'priority': 0.1003334746, 'spans': [], '_session_id': 'ta_tweets-test', '_view_id': 'classification', 'answer': 'reject'}\n",
      "{'text': \"I'll never see <TARGET> again w/o visualizing him pressing his penis on young unwilling women. Disgusting. @Morning_Joe @JoeNBC\", 'meta': {'tweet_id': '924121885734039553', 'body_target_mentions_target': 'halperin', 'quoted_status_target_mentions': None, 'score': 0.2442142814}, '_input_hash': -1479956896, '_task_hash': 264780111, 'label': 'condemnation', 'score': 0.2442142814, 'priority': 0.2442142814, 'spans': [], '_session_id': 'ta_tweets-test', '_view_id': 'classification', 'answer': 'accept'}\n",
      "{'text': 'thanks <TARGET>😭😭😭 thanks for always being here for me! love you so so much💗 https://t.co/F3RBDPwMl2', 'meta': {'tweet_id': '924121553582936064', 'body_target_mentions_target': 'lacey', 'quoted_status_target_mentions': None, 'score': 0.4998016655}, '_input_hash': -568468259, '_task_hash': -1374532188, 'label': 'condemnation', 'score': 0.4998016655, 'priority': 0.4998016655, 'spans': [], '_session_id': 'ta_tweets-test2', '_view_id': 'classification', 'answer': 'reject'}\n",
      "{'text': \"<TARGET> apologizes for 'aggressive and crude' behavior toward women… https://t.co/wU6M2hrnDP bench #Lifestyle\", 'meta': {'tweet_id': '924121315761586176', 'body_target_mentions_target': 'halperin', 'quoted_status_target_mentions': None, 'score': 0.4669130147}, '_input_hash': 571695367, '_task_hash': 398448599, 'label': 'condemnation', 'score': 0.4669130147, 'priority': 0.4669130147, 'spans': [], '_session_id': 'ta_tweets-test2', '_view_id': 'classification', 'answer': 'reject'}\n",
      "{'text': '@Missy314 <TARGET> walked him to school..... Draymond would put him in the dirt', 'meta': {'tweet_id': '924122075450757121', 'body_target_mentions_target': 'nelly', 'quoted_status_target_mentions': None, 'score': 0.5395108461}, '_input_hash': -784677738, '_task_hash': 1911676406, 'label': 'condemnation', 'score': 0.5395108461, 'priority': 0.5395108461, 'spans': [], '_session_id': 'ta_tweets-test2', '_view_id': 'classification', 'answer': 'reject'}\n",
      "{'text': '@mobilematt @LOLGOP @<TARGET>_lori But, but, but Franklin Graham and other Evangelicals said he is God’s choice because he’s a Christian. They aren’t liars, are they?', 'meta': {'tweet_id': '924122158602838016', 'body_target_mentions_target': 'seagal', 'quoted_status_target_mentions': None, 'score': 0.4563571811}, '_input_hash': -663770097, '_task_hash': 1444937249, 'label': 'condemnation', 'score': 0.4563571811, 'priority': 0.4563571811, 'spans': [], '_session_id': 'ta_tweets-test2', '_view_id': 'classification', 'answer': 'reject'}\n",
      "{'text': \"@TheJamesHoner @twitwar2017 <TARGET> isn't the fucking president! How did this comparison actually occupy your brain?\", 'meta': {'tweet_id': '924122088142540801', 'body_target_mentions_target': 'weinstein', 'quoted_status_target_mentions': None, 'score': 0.4536896944}, '_input_hash': 526259406, '_task_hash': 388679913, 'label': 'condemnation', 'score': 0.4536896944, 'priority': 0.4536896944, 'spans': [], '_session_id': 'ta_tweets-test2', '_view_id': 'classification', 'answer': 'reject'}\n",
      "{'text': 'Four more women accuse <TARGET> of harassment, bringing total to at least a dozen https://t.co/7S5mmCBJGr https://t.co/LkfWrDcVb1', 'meta': {'tweet_id': '924121063482707968', 'body_target_mentions_target': 'halperin', 'quoted_status_target_mentions': None, 'score': 0.4488814175}, '_input_hash': -241144955, '_task_hash': 1040848974, 'label': 'condemnation', 'score': 0.4488814175, 'priority': 0.4488814175, 'spans': [], '_session_id': 'ta_tweets-test2', '_view_id': 'classification', 'answer': 'reject'}\n",
      "{'text': '@TheFirstBladc » “I do love you. . I love you, <TARGET>. .”', 'meta': {'tweet_id': '924121113914875904', 'body_target_mentions_target': 'blaine', 'quoted_status_target_mentions': None, 'score': 0.4436924756}, '_input_hash': 164791188, '_task_hash': 489199799, 'label': 'condemnation', 'score': 0.4436924756, 'priority': 0.4436924756, 'spans': [], '_session_id': 'ta_tweets-test2', '_view_id': 'classification', 'answer': 'reject'}\n",
      "{'text': '<TARGET>, Hefner and the Poor Excuse that Explains a Lot via @NYTimes https://t.co/AWccYrHnSg', 'meta': {'tweet_id': '924121885088059392', 'body_target_mentions_target': 'weinstein', 'quoted_status_target_mentions': None, 'score': 0.4384175539}, '_input_hash': -772767723, '_task_hash': -912184629, 'label': 'condemnation', 'score': 0.4384175539, 'priority': 0.4384175539, 'spans': [], '_session_id': 'ta_tweets-test2', '_view_id': 'classification', 'answer': 'reject'}\n",
      "{'text': 'From the famed NYT movie critic, on <TARGET> ⬇️ thread: https://t.co/3bfwR3C5Ww', 'meta': {'tweet_id': '924121315950387201', 'body_target_mentions_target': 'toback', 'quoted_status_target_mentions': [], 'score': 0.4377569258}, '_input_hash': 1870753076, '_task_hash': -1116460230, 'label': 'condemnation', 'score': 0.4377569258, 'priority': 0.4377569258, 'spans': [], '_session_id': 'ta_tweets-test2', '_view_id': 'classification', 'answer': 'reject'}\n",
      "{'text': 'Cielo (<TARGET>): Esta noche full time bebe https://t.co/uQhchRjIDZ https://t.co/zVW5Cbg5tw', 'meta': {'tweet_id': '924122193533063169', 'body_target_mentions_target': 'mendoza', 'quoted_status_target_mentions': None, 'score': 0.5813475251}, '_input_hash': 975567333, '_task_hash': 289415782, 'label': 'condemnation', 'score': 0.5813475251, 'priority': 0.5813475251, 'spans': [], '_session_id': 'ta_tweets-test2', '_view_id': 'classification', 'answer': 'reject'}\n",
      "{'text': \"If you're a Law &amp; Order: Criminal Intent fan, this just got personal https://t.co/7mcKsXSMw8 #<TARGET><TARGET> #HimThough #MeToo\", 'meta': {'tweet_id': '924121404315963392', 'body_target_mentions_target': 'weinstein', 'quoted_status_target_mentions': None, 'score': 0.5826941133}, '_input_hash': 732898423, '_task_hash': 754206805, 'label': 'condemnation', 'score': 0.5826941133, 'priority': 0.5826941133, 'spans': [], '_session_id': 'ta_tweets-test2', '_view_id': 'classification', 'answer': 'reject'}\n",
      "{'text': '“Pervert politicians”: why the <TARGET> effect could hit Westminster hardest https://t.co/c3IXgWIfOD', 'meta': {'tweet_id': '924121414709448704', 'body_target_mentions_target': 'weinstein', 'quoted_status_target_mentions': None, 'score': 0.4162029028}, '_input_hash': 1665723590, '_task_hash': -651388936, 'label': 'condemnation', 'score': 0.4162029028, 'priority': 0.4162029028, 'spans': [], '_session_id': 'ta_tweets-test2', '_view_id': 'classification', 'answer': 'reject'}\n",
      "{'text': \"After Parting Ways With <TARGET>, Tarantino's Manson Family Movie Becomes Subject Of A… https://t.co/z7fBCgGLu0\", 'meta': {'tweet_id': '924122378728300544', 'body_target_mentions_target': 'weinstein', 'quoted_status_target_mentions': None, 'score': 0.4170163274}, '_input_hash': 260225488, '_task_hash': -1648179921, 'label': 'condemnation', 'score': 0.4170163274, 'priority': 0.4170163274, 'spans': [], '_session_id': 'ta_tweets-test2', '_view_id': 'classification', 'answer': 'reject'}\n",
      "{'text': 'More Women Accuse <TARGET> of Harassment... https://t.co/JBlb9RFXhV', 'meta': {'tweet_id': '924121919162671104', 'body_target_mentions_target': 'halperin', 'quoted_status_target_mentions': None, 'score': 0.3203881383}, '_input_hash': 1396081826, '_task_hash': -2072576580, 'label': 'condemnation', 'score': 0.3203881383, 'priority': 0.3203881383, 'spans': [], '_session_id': 'ta_tweets-test2', '_view_id': 'classification', 'answer': 'reject'}\n",
      "{'text': '‘I don’t want to sit on your lap,’ she thought. But, she alleges, <TARGET> insisted. https://t.co/lRqH1PU84m via @BFT_Podcast', 'meta': {'tweet_id': '924122216584925184', 'body_target_mentions_target': 'halperin', 'quoted_status_target_mentions': None, 'score': 0.5103315115}, '_input_hash': 327403861, '_task_hash': -188443636, 'label': 'condemnation', 'score': 0.5103315115, 'priority': 0.5103315115, 'spans': [], '_session_id': 'ta_tweets-test2', '_view_id': 'classification', 'answer': 'reject'}\n",
      "{'text': 'https://t.co/f0AaPsORdP #BlastFMCountry ♪ Florida Georgia Line - Cruise (Remix) Ft. <TARGET> ♪ 28-10-2017 04:59:01', 'meta': {'tweet_id': '924123313403809792', 'body_target_mentions_target': 'nelly', 'quoted_status_target_mentions': None, 'score': 0.5657128692}, '_input_hash': 829758296, '_task_hash': -2058070810, 'label': 'condemnation', 'score': 0.5657128692, 'priority': 0.5657128692, 'spans': [], '_session_id': 'ta_tweets-test2', '_view_id': 'classification', 'answer': 'reject'}\n",
      "{'text': '@RealJamesWoods As soon as we stop tolerating your sexist and pedophilia...as bad as <TARGET>...', 'meta': {'tweet_id': '924121777797701632', 'body_target_mentions_target': 'weinstein', 'quoted_status_target_mentions': None, 'score': 0.3379083276}, '_input_hash': -1635577596, '_task_hash': -1994990710, 'label': 'condemnation', 'score': 0.3379083276, 'priority': 0.3379083276, 'spans': [], '_session_id': 'ta_tweets-test2', '_view_id': 'classification', 'answer': 'reject'}\n",
      "{'text': '“Trump accusers clearly lies.”\\n\\n“<TARGET> accusers heroes for coming forward.” https://t.co/lldzfg50jP', 'meta': {'tweet_id': '924123141479202816', 'body_target_mentions_target': 'weinstein', 'quoted_status_target_mentions': ['weinstein'], 'score': 0.3255190253}, '_input_hash': -647673443, '_task_hash': 95472466, 'label': 'condemnation', 'score': 0.3255190253, 'priority': 0.3255190253, 'spans': [], '_session_id': 'ta_tweets-test2', '_view_id': 'classification', 'answer': 'reject'}\n",
      "{'text': '@_Esther_<TARGET> Girl no one is talking about you, stop always trying to include yourself', 'meta': {'tweet_id': '924122446218719232', 'body_target_mentions_target': 'mendoza', 'quoted_status_target_mentions': None, 'score': 0.545940876}, '_input_hash': -1543099165, '_task_hash': 1462521222, 'label': 'condemnation', 'score': 0.545940876, 'priority': 0.545940876, 'spans': [], '_session_id': 'ta_tweets-test2', '_view_id': 'classification', 'answer': 'reject'}\n",
      "{'text': \"@jaketapper @RonanFarrow <TARGET> does not belong in this country and this time. I don't even think the cavemen would have tolerated it.\", 'meta': {'tweet_id': '924122523846848512', 'body_target_mentions_target': 'weinstein', 'quoted_status_target_mentions': None, 'score': 0.4884682596}, '_input_hash': -910272021, '_task_hash': -1938608090, 'label': 'condemnation', 'score': 0.4884682596, 'priority': 0.4884682596, 'spans': [], '_session_id': 'ta_tweets-test2', '_view_id': 'classification', 'answer': 'accept'}\n",
      "{'text': 'It’s Time for Donald Trump to be <TARGET>ed | National Review https://t.co/q52wCePoNx', 'meta': {'tweet_id': '924122568407347201', 'body_target_mentions_target': 'weinstein', 'quoted_status_target_mentions': None, 'score': 0.3228727579}, '_input_hash': -1496221180, '_task_hash': -1257756955, 'label': 'condemnation', 'score': 0.3228727579, 'priority': 0.3228727579, 'spans': [], '_session_id': 'ta_tweets-test2', '_view_id': 'classification', 'answer': 'reject'}\n",
      "{'text': 'New <TARGET> sexual assault accusations emerge https://t.co/WPPTYRrm3T https://t.co/U3eDtORK1T', 'meta': {'tweet_id': '924122827732656128', 'body_target_mentions_target': 'weinstein', 'quoted_status_target_mentions': None, 'score': 0.3465416133}, '_input_hash': -203836779, '_task_hash': -1327743453, 'label': 'condemnation', 'score': 0.3465416133, 'priority': 0.3465416133, 'spans': [], '_session_id': 'ta_tweets-test2', '_view_id': 'classification', 'answer': 'reject'}\n",
      "{'text': 'New <TARGET> sexual assault accusations emerge via the @FoxNews App https://t.co/4gyrDF8WHe', 'meta': {'tweet_id': '924122873790218240', 'body_target_mentions_target': 'weinstein', 'quoted_status_target_mentions': None, 'score': 0.3585190177}, '_input_hash': 630066531, '_task_hash': 151307863, 'label': 'condemnation', 'score': 0.3585190177, 'priority': 0.3585190177, 'spans': [], '_session_id': 'ta_tweets-test2', '_view_id': 'classification', 'answer': 'reject'}\n",
      "{'text': 'Who advised #<TARGET><TARGET> on his overly contrived #apology. Seems likely to invite pre-and-post #ABC #MeToo victims? https://t.co/gBo9iG3wzS', 'meta': {'tweet_id': '924123334102614016', 'body_target_mentions_target': 'halperin', 'quoted_status_target_mentions': None, 'score': 0.2272523046}, '_input_hash': -1602415481, '_task_hash': -1429060382, 'label': 'condemnation', 'score': 0.2272523046, 'priority': 0.2272523046, 'spans': [], '_session_id': 'ta_tweets-test2', '_view_id': 'classification', 'answer': 'reject'}\n",
      "{'text': 'Mix - <TARGET> - The Champ (Bowl Week): https://t.co/qSMEYOOPc0 💪🌹', 'meta': {'tweet_id': '924122415604600832', 'body_target_mentions_target': 'nelly', 'quoted_status_target_mentions': None, 'score': 0.408231616}, '_input_hash': -1626006843, '_task_hash': -1634387856, 'label': 'condemnation', 'score': 0.408231616, 'priority': 0.408231616, 'spans': [], '_session_id': 'ta_tweets-test2', '_view_id': 'classification', 'answer': 'reject'}\n",
      "{'text': '<TARGET> Apologizes to Women He ‘Mistreated’ https://t.co/6iN7pPmrsJ #NYT #Business', 'meta': {'tweet_id': '924123327249051648', 'body_target_mentions_target': 'halperin', 'quoted_status_target_mentions': None, 'score': 0.3726925254}, '_input_hash': -2088676898, '_task_hash': -1516440065, 'label': 'condemnation', 'score': 0.3726925254, 'priority': 0.3726925254, 'spans': [], '_session_id': 'ta_tweets-test2', '_view_id': 'classification', 'answer': 'reject'}\n",
      "{'text': '@washingtonpost Obviously. All of the conspiracies about Clinton and <TARGET> accusers are all to be taken as truth. Anything against trumpy is fake news 🙄', 'meta': {'tweet_id': '924123412489846784', 'body_target_mentions_target': 'weinstein', 'quoted_status_target_mentions': None, 'score': 0.3900079429}, '_input_hash': -1729874597, '_task_hash': 341544194, 'label': 'condemnation', 'score': 0.3900079429, 'priority': 0.3900079429, 'spans': [], '_session_id': 'ta_tweets-test2', '_view_id': 'classification', 'answer': 'reject'}\n",
      "{'text': 'New <TARGET> sexual assault accusations emerge - https://t.co/grqwhgRkOU https://t.co/UMhvkzQ0na', 'meta': {'tweet_id': '924122655128784897', 'body_target_mentions_target': 'weinstein', 'quoted_status_target_mentions': None, 'score': 0.4088194072}, '_input_hash': 1471600880, '_task_hash': 1366019359, 'label': 'condemnation', 'score': 0.4088194072, 'priority': 0.4088194072, 'spans': [], '_session_id': 'ta_tweets-test2', '_view_id': 'classification', 'answer': 'reject'}\n",
      "{'text': '<TARGET> Targeted College Girls Too #NewsGrit https://t.co/hlNan38Q6C', 'meta': {'tweet_id': '924122947723382786', 'body_target_mentions_target': 'halperin', 'quoted_status_target_mentions': None, 'score': 0.3503395319}, '_input_hash': -869096413, '_task_hash': 119518098, 'label': 'condemnation', 'score': 0.3503395319, 'priority': 0.3503395319, 'spans': [], '_session_id': 'ta_tweets-test2', '_view_id': 'classification', 'answer': 'reject'}\n",
      "{'text': 'I’m one of the women accusing <TARGET> of sexual harassment. He’s part of a much bigger problem. - https://t.co/TYizlVoWim', 'meta': {'tweet_id': '924123260777914369', 'body_target_mentions_target': 'halperin', 'quoted_status_target_mentions': None, 'score': 0.4565391839}, '_input_hash': 826151338, '_task_hash': -1637220125, 'label': 'condemnation', 'score': 0.4565391839, 'priority': 0.4565391839, 'spans': [], '_session_id': 'ta_tweets-test2', '_view_id': 'classification', 'answer': 'accept'}\n",
      "{'text': 'thanks <TARGET>😭😭😭 thanks for always being here for me! love you so so much💗 https://t.co/F3RBDPwMl2', 'meta': {'tweet_id': '924121553582936064', 'body_target_mentions_target': 'lacey', 'quoted_status_target_mentions': None, 'score': 0.4998016655}, '_input_hash': -568468259, '_task_hash': -1374532188, 'label': 'condemnation', 'score': 0.4998016655, 'priority': 0.4998016655, 'spans': [], '_session_id': 'ta_tweets-test3', '_view_id': 'classification', 'answer': 'reject'}\n",
      "{'text': \"<TARGET> apologizes for 'aggressive and crude' behavior toward women… https://t.co/wU6M2hrnDP bench #Lifestyle\", 'meta': {'tweet_id': '924121315761586176', 'body_target_mentions_target': 'halperin', 'quoted_status_target_mentions': None, 'score': 0.4669130147}, '_input_hash': 571695367, '_task_hash': 398448599, 'label': 'condemnation', 'score': 0.4669130147, 'priority': 0.4669130147, 'spans': [], '_session_id': 'ta_tweets-test3', '_view_id': 'classification', 'answer': 'reject'}\n",
      "{'text': '@Missy314 <TARGET> walked him to school..... Draymond would put him in the dirt', 'meta': {'tweet_id': '924122075450757121', 'body_target_mentions_target': 'nelly', 'quoted_status_target_mentions': None, 'score': 0.5395108461}, '_input_hash': -784677738, '_task_hash': 1911676406, 'label': 'condemnation', 'score': 0.5395108461, 'priority': 0.5395108461, 'spans': [], '_session_id': 'ta_tweets-test3', '_view_id': 'classification', 'answer': 'reject'}\n"
     ]
    },
    {
     "data": {
      "application/vnd.jupyter.widget-view+json": {
       "model_id": "",
       "version_major": 2,
       "version_minor": 0
      },
      "text/plain": [
       "0 examples [00:00, ? examples/s]"
      ]
     },
     "metadata": {},
     "output_type": "display_data"
    },
    {
     "name": "stdout",
     "output_type": "stream",
     "text": [
      "filepath my_dataset_loading_script/ta_tweets.jsonl\n",
      "{'text': 'Rose McGowan accuses <TARGET> of Rape - News Today - Breaking News https://t.co/q8AWAgxmwP via @YouTube', 'meta': {'tweet_id': '924121799004057600', 'body_target_mentions_target': 'weinstein', 'quoted_status_target_mentions': None, 'score': 0.5066827536}, '_input_hash': 1814849179, '_task_hash': -1213763831, 'label': 'condemnation', 'score': 0.5066827536, 'priority': 0.5066827536, 'spans': [], '_session_id': 'ta_tweets-test', '_view_id': 'classification', 'answer': 'reject'}\n",
      "{'text': 'Over 300 Claims Against <TARGET>! https://t.co/6ztiuplOpl', 'meta': {'tweet_id': '924121911583526912', 'body_target_mentions_target': 'toback', 'quoted_status_target_mentions': None, 'score': 0.4642074704}, '_input_hash': 1276310490, '_task_hash': -302313038, 'label': 'condemnation', 'score': 0.4642074704, 'priority': 0.4642074704, 'spans': [], '_session_id': 'ta_tweets-test', '_view_id': 'classification', 'answer': 'reject'}\n",
      "{'text': 'It’s horrible how companies are trying to benefit from the sexual harassment case of Mr. <TARGET> https://t.co/WDKNKUPsV0', 'meta': {'tweet_id': '924122038196940800', 'body_target_mentions_target': 'weinstein', 'quoted_status_target_mentions': ['weinstein'], 'score': 0.4546828866}, '_input_hash': 524954191, '_task_hash': -53655055, 'label': 'condemnation', 'score': 0.4546828866, 'priority': 0.4546828866, 'spans': [], '_session_id': 'ta_tweets-test', '_view_id': 'classification', 'answer': 'reject'}\n",
      "{'text': '@SabiieeyyCel Sweet naman <TARGET>', 'meta': {'tweet_id': '924121076547837952', 'body_target_mentions_target': 'besh', 'quoted_status_target_mentions': None, 'score': 0.4431618452}, '_input_hash': 1296990163, '_task_hash': 1967692387, 'label': 'condemnation', 'score': 0.4431618452, 'priority': 0.4431618452, 'spans': [], '_session_id': 'ta_tweets-test', '_view_id': 'classification', 'answer': 'reject'}\n",
      "{'text': \"George Clooney, Matt Damon Speak Out Against <TARGET> On 'GMA' https://t.co/BvmzMiyAu5\", 'meta': {'tweet_id': '924121072794038273', 'body_target_mentions_target': 'weinstein', 'quoted_status_target_mentions': None, 'score': 0.5716965199}, '_input_hash': -1588525542, '_task_hash': -1778674840, 'label': 'condemnation', 'score': 0.5716965199, 'priority': 0.5716965199, 'spans': [], '_session_id': 'ta_tweets-test', '_view_id': 'classification', 'answer': 'reject'}\n",
      "{'text': '@Cap_Kaveman @funnyordie <TARGET> doesn’t look so bad now, huh? Too soon?', 'meta': {'tweet_id': '924121514521198593', 'body_target_mentions_target': 'weinstein', 'quoted_status_target_mentions': None, 'score': 0.4153237641}, '_input_hash': -896079301, '_task_hash': -154997466, 'label': 'condemnation', 'score': 0.4153237641, 'priority': 0.4153237641, 'spans': [], '_session_id': 'ta_tweets-test', '_view_id': 'classification', 'answer': 'reject'}\n",
      "{'text': 'Nike SB Highlights <TARGET> Baker in New Profile Video via @HYPEBEAST\\n https://t.co/CCDHFixeKP', 'meta': {'tweet_id': '924121145703514112', 'body_target_mentions_target': 'lacey', 'quoted_status_target_mentions': None, 'score': 0.5938529968}, '_input_hash': 1251451373, '_task_hash': -693992143, 'label': 'condemnation', 'score': 0.5938529968, 'priority': 0.5938529968, 'spans': [], '_session_id': 'ta_tweets-test', '_view_id': 'classification', 'answer': 'reject'}\n",
      "{'text': 'Why <TARGET> is not in jail yet?\\n@TheJusticeDept @CNN https://t.co/DnSNrOkf5T', 'meta': {'tweet_id': '924121885566210048', 'body_target_mentions_target': 'weinstein', 'quoted_status_target_mentions': None, 'score': 0.5941052437}, '_input_hash': -1696345317, '_task_hash': 141661886, 'label': 'condemnation', 'score': 0.5941052437, 'priority': 0.5941052437, 'spans': [], '_session_id': 'ta_tweets-test', '_view_id': 'classification', 'answer': 'accept'}\n",
      "{'text': \"@scienceisreal13 @CNN But, you're defending @CNN trying to distract from <TARGET> and the rest of Hollywood. O'Reilly had his moment of shame.\", 'meta': {'tweet_id': '924121538818924544', 'body_target_mentions_target': 'weinstein', 'quoted_status_target_mentions': None, 'score': 0.3939165175}, '_input_hash': 770118264, '_task_hash': -210045324, 'label': 'condemnation', 'score': 0.3939165175, 'priority': 0.3939165175, 'spans': [], '_session_id': 'ta_tweets-test', '_view_id': 'classification', 'answer': 'accept'}\n",
      "{'text': '@TheJoyKurdi Be <TARGET> again', 'meta': {'tweet_id': '924121393117237248', 'body_target_mentions_target': 'blaine', 'quoted_status_target_mentions': None, 'score': 0.3759473562}, '_input_hash': -1074231043, '_task_hash': 358284679, 'label': 'condemnation', 'score': 0.3759473562, 'priority': 0.3759473562, 'spans': [], '_session_id': 'ta_tweets-test', '_view_id': 'classification', 'answer': 'reject'}\n",
      "{'text': '@DailyCaller @dhookstead Ellen sexual harassing did she learn that from <TARGET>', 'meta': {'tweet_id': '924121772441686016', 'body_target_mentions_target': 'weinstein', 'quoted_status_target_mentions': None, 'score': 0.3705962598}, '_input_hash': 102109382, '_task_hash': -266463248, 'label': 'condemnation', 'score': 0.3705962598, 'priority': 0.3705962598, 'spans': [], '_session_id': 'ta_tweets-test', '_view_id': 'classification', 'answer': 'reject'}\n",
      "{'text': '<TARGET> accused of sexual assault by two more women https://t.co/c3XEIi2WD4 https://t.co/tfvaeBeHKr', 'meta': {'tweet_id': '924121057073565696', 'body_target_mentions_target': 'halperin', 'quoted_status_target_mentions': None, 'score': 0.3404895961}, '_input_hash': 803247796, '_task_hash': -216377135, 'label': 'condemnation', 'score': 0.3404895961, 'priority': 0.3404895961, 'spans': [], '_session_id': 'ta_tweets-test', '_view_id': 'classification', 'answer': 'reject'}\n",
      "{'text': '@BillOReilly Same media that covered for <TARGET> and pedophilia in Hollywood. Not so surprising.', 'meta': {'tweet_id': '924121705416622080', 'body_target_mentions_target': 'weinstein', 'quoted_status_target_mentions': None, 'score': 0.1019686759}, '_input_hash': 1200443694, '_task_hash': 1816901984, 'label': 'condemnation', 'score': 0.1019686759, 'priority': 0.1019686759, 'spans': [], '_session_id': 'ta_tweets-test', '_view_id': 'classification', 'answer': 'accept'}\n",
      "{'text': 'Weighing the Costs of Speaking Out About <TARGET> https://t.co/3N3g2aTlUy', 'meta': {'tweet_id': '924121519227154432', 'body_target_mentions_target': 'weinstein', 'quoted_status_target_mentions': None, 'score': 0.1003334746}, '_input_hash': 741090183, '_task_hash': 1044297407, 'label': 'condemnation', 'score': 0.1003334746, 'priority': 0.1003334746, 'spans': [], '_session_id': 'ta_tweets-test', '_view_id': 'classification', 'answer': 'reject'}\n",
      "{'text': \"I'll never see <TARGET> again w/o visualizing him pressing his penis on young unwilling women. Disgusting. @Morning_Joe @JoeNBC\", 'meta': {'tweet_id': '924121885734039553', 'body_target_mentions_target': 'halperin', 'quoted_status_target_mentions': None, 'score': 0.2442142814}, '_input_hash': -1479956896, '_task_hash': 264780111, 'label': 'condemnation', 'score': 0.2442142814, 'priority': 0.2442142814, 'spans': [], '_session_id': 'ta_tweets-test', '_view_id': 'classification', 'answer': 'accept'}\n",
      "{'text': 'thanks <TARGET>😭😭😭 thanks for always being here for me! love you so so much💗 https://t.co/F3RBDPwMl2', 'meta': {'tweet_id': '924121553582936064', 'body_target_mentions_target': 'lacey', 'quoted_status_target_mentions': None, 'score': 0.4998016655}, '_input_hash': -568468259, '_task_hash': -1374532188, 'label': 'condemnation', 'score': 0.4998016655, 'priority': 0.4998016655, 'spans': [], '_session_id': 'ta_tweets-test2', '_view_id': 'classification', 'answer': 'reject'}\n",
      "{'text': \"<TARGET> apologizes for 'aggressive and crude' behavior toward women… https://t.co/wU6M2hrnDP bench #Lifestyle\", 'meta': {'tweet_id': '924121315761586176', 'body_target_mentions_target': 'halperin', 'quoted_status_target_mentions': None, 'score': 0.4669130147}, '_input_hash': 571695367, '_task_hash': 398448599, 'label': 'condemnation', 'score': 0.4669130147, 'priority': 0.4669130147, 'spans': [], '_session_id': 'ta_tweets-test2', '_view_id': 'classification', 'answer': 'reject'}\n",
      "{'text': '@Missy314 <TARGET> walked him to school..... Draymond would put him in the dirt', 'meta': {'tweet_id': '924122075450757121', 'body_target_mentions_target': 'nelly', 'quoted_status_target_mentions': None, 'score': 0.5395108461}, '_input_hash': -784677738, '_task_hash': 1911676406, 'label': 'condemnation', 'score': 0.5395108461, 'priority': 0.5395108461, 'spans': [], '_session_id': 'ta_tweets-test2', '_view_id': 'classification', 'answer': 'reject'}\n",
      "{'text': '@mobilematt @LOLGOP @<TARGET>_lori But, but, but Franklin Graham and other Evangelicals said he is God’s choice because he’s a Christian. They aren’t liars, are they?', 'meta': {'tweet_id': '924122158602838016', 'body_target_mentions_target': 'seagal', 'quoted_status_target_mentions': None, 'score': 0.4563571811}, '_input_hash': -663770097, '_task_hash': 1444937249, 'label': 'condemnation', 'score': 0.4563571811, 'priority': 0.4563571811, 'spans': [], '_session_id': 'ta_tweets-test2', '_view_id': 'classification', 'answer': 'reject'}\n",
      "{'text': \"@TheJamesHoner @twitwar2017 <TARGET> isn't the fucking president! How did this comparison actually occupy your brain?\", 'meta': {'tweet_id': '924122088142540801', 'body_target_mentions_target': 'weinstein', 'quoted_status_target_mentions': None, 'score': 0.4536896944}, '_input_hash': 526259406, '_task_hash': 388679913, 'label': 'condemnation', 'score': 0.4536896944, 'priority': 0.4536896944, 'spans': [], '_session_id': 'ta_tweets-test2', '_view_id': 'classification', 'answer': 'reject'}\n",
      "{'text': 'Four more women accuse <TARGET> of harassment, bringing total to at least a dozen https://t.co/7S5mmCBJGr https://t.co/LkfWrDcVb1', 'meta': {'tweet_id': '924121063482707968', 'body_target_mentions_target': 'halperin', 'quoted_status_target_mentions': None, 'score': 0.4488814175}, '_input_hash': -241144955, '_task_hash': 1040848974, 'label': 'condemnation', 'score': 0.4488814175, 'priority': 0.4488814175, 'spans': [], '_session_id': 'ta_tweets-test2', '_view_id': 'classification', 'answer': 'reject'}\n",
      "{'text': '@TheFirstBladc » “I do love you. . I love you, <TARGET>. .”', 'meta': {'tweet_id': '924121113914875904', 'body_target_mentions_target': 'blaine', 'quoted_status_target_mentions': None, 'score': 0.4436924756}, '_input_hash': 164791188, '_task_hash': 489199799, 'label': 'condemnation', 'score': 0.4436924756, 'priority': 0.4436924756, 'spans': [], '_session_id': 'ta_tweets-test2', '_view_id': 'classification', 'answer': 'reject'}\n",
      "{'text': '<TARGET>, Hefner and the Poor Excuse that Explains a Lot via @NYTimes https://t.co/AWccYrHnSg', 'meta': {'tweet_id': '924121885088059392', 'body_target_mentions_target': 'weinstein', 'quoted_status_target_mentions': None, 'score': 0.4384175539}, '_input_hash': -772767723, '_task_hash': -912184629, 'label': 'condemnation', 'score': 0.4384175539, 'priority': 0.4384175539, 'spans': [], '_session_id': 'ta_tweets-test2', '_view_id': 'classification', 'answer': 'reject'}\n",
      "{'text': 'From the famed NYT movie critic, on <TARGET> ⬇️ thread: https://t.co/3bfwR3C5Ww', 'meta': {'tweet_id': '924121315950387201', 'body_target_mentions_target': 'toback', 'quoted_status_target_mentions': [], 'score': 0.4377569258}, '_input_hash': 1870753076, '_task_hash': -1116460230, 'label': 'condemnation', 'score': 0.4377569258, 'priority': 0.4377569258, 'spans': [], '_session_id': 'ta_tweets-test2', '_view_id': 'classification', 'answer': 'reject'}\n",
      "{'text': 'Cielo (<TARGET>): Esta noche full time bebe https://t.co/uQhchRjIDZ https://t.co/zVW5Cbg5tw', 'meta': {'tweet_id': '924122193533063169', 'body_target_mentions_target': 'mendoza', 'quoted_status_target_mentions': None, 'score': 0.5813475251}, '_input_hash': 975567333, '_task_hash': 289415782, 'label': 'condemnation', 'score': 0.5813475251, 'priority': 0.5813475251, 'spans': [], '_session_id': 'ta_tweets-test2', '_view_id': 'classification', 'answer': 'reject'}\n",
      "{'text': \"If you're a Law &amp; Order: Criminal Intent fan, this just got personal https://t.co/7mcKsXSMw8 #<TARGET><TARGET> #HimThough #MeToo\", 'meta': {'tweet_id': '924121404315963392', 'body_target_mentions_target': 'weinstein', 'quoted_status_target_mentions': None, 'score': 0.5826941133}, '_input_hash': 732898423, '_task_hash': 754206805, 'label': 'condemnation', 'score': 0.5826941133, 'priority': 0.5826941133, 'spans': [], '_session_id': 'ta_tweets-test2', '_view_id': 'classification', 'answer': 'reject'}\n",
      "{'text': '“Pervert politicians”: why the <TARGET> effect could hit Westminster hardest https://t.co/c3IXgWIfOD', 'meta': {'tweet_id': '924121414709448704', 'body_target_mentions_target': 'weinstein', 'quoted_status_target_mentions': None, 'score': 0.4162029028}, '_input_hash': 1665723590, '_task_hash': -651388936, 'label': 'condemnation', 'score': 0.4162029028, 'priority': 0.4162029028, 'spans': [], '_session_id': 'ta_tweets-test2', '_view_id': 'classification', 'answer': 'reject'}\n",
      "{'text': \"After Parting Ways With <TARGET>, Tarantino's Manson Family Movie Becomes Subject Of A… https://t.co/z7fBCgGLu0\", 'meta': {'tweet_id': '924122378728300544', 'body_target_mentions_target': 'weinstein', 'quoted_status_target_mentions': None, 'score': 0.4170163274}, '_input_hash': 260225488, '_task_hash': -1648179921, 'label': 'condemnation', 'score': 0.4170163274, 'priority': 0.4170163274, 'spans': [], '_session_id': 'ta_tweets-test2', '_view_id': 'classification', 'answer': 'reject'}\n",
      "{'text': 'More Women Accuse <TARGET> of Harassment... https://t.co/JBlb9RFXhV', 'meta': {'tweet_id': '924121919162671104', 'body_target_mentions_target': 'halperin', 'quoted_status_target_mentions': None, 'score': 0.3203881383}, '_input_hash': 1396081826, '_task_hash': -2072576580, 'label': 'condemnation', 'score': 0.3203881383, 'priority': 0.3203881383, 'spans': [], '_session_id': 'ta_tweets-test2', '_view_id': 'classification', 'answer': 'reject'}\n",
      "{'text': '‘I don’t want to sit on your lap,’ she thought. But, she alleges, <TARGET> insisted. https://t.co/lRqH1PU84m via @BFT_Podcast', 'meta': {'tweet_id': '924122216584925184', 'body_target_mentions_target': 'halperin', 'quoted_status_target_mentions': None, 'score': 0.5103315115}, '_input_hash': 327403861, '_task_hash': -188443636, 'label': 'condemnation', 'score': 0.5103315115, 'priority': 0.5103315115, 'spans': [], '_session_id': 'ta_tweets-test2', '_view_id': 'classification', 'answer': 'reject'}\n",
      "{'text': 'https://t.co/f0AaPsORdP #BlastFMCountry ♪ Florida Georgia Line - Cruise (Remix) Ft. <TARGET> ♪ 28-10-2017 04:59:01', 'meta': {'tweet_id': '924123313403809792', 'body_target_mentions_target': 'nelly', 'quoted_status_target_mentions': None, 'score': 0.5657128692}, '_input_hash': 829758296, '_task_hash': -2058070810, 'label': 'condemnation', 'score': 0.5657128692, 'priority': 0.5657128692, 'spans': [], '_session_id': 'ta_tweets-test2', '_view_id': 'classification', 'answer': 'reject'}\n",
      "{'text': '@RealJamesWoods As soon as we stop tolerating your sexist and pedophilia...as bad as <TARGET>...', 'meta': {'tweet_id': '924121777797701632', 'body_target_mentions_target': 'weinstein', 'quoted_status_target_mentions': None, 'score': 0.3379083276}, '_input_hash': -1635577596, '_task_hash': -1994990710, 'label': 'condemnation', 'score': 0.3379083276, 'priority': 0.3379083276, 'spans': [], '_session_id': 'ta_tweets-test2', '_view_id': 'classification', 'answer': 'reject'}\n",
      "{'text': '“Trump accusers clearly lies.”\\n\\n“<TARGET> accusers heroes for coming forward.” https://t.co/lldzfg50jP', 'meta': {'tweet_id': '924123141479202816', 'body_target_mentions_target': 'weinstein', 'quoted_status_target_mentions': ['weinstein'], 'score': 0.3255190253}, '_input_hash': -647673443, '_task_hash': 95472466, 'label': 'condemnation', 'score': 0.3255190253, 'priority': 0.3255190253, 'spans': [], '_session_id': 'ta_tweets-test2', '_view_id': 'classification', 'answer': 'reject'}\n",
      "{'text': '@_Esther_<TARGET> Girl no one is talking about you, stop always trying to include yourself', 'meta': {'tweet_id': '924122446218719232', 'body_target_mentions_target': 'mendoza', 'quoted_status_target_mentions': None, 'score': 0.545940876}, '_input_hash': -1543099165, '_task_hash': 1462521222, 'label': 'condemnation', 'score': 0.545940876, 'priority': 0.545940876, 'spans': [], '_session_id': 'ta_tweets-test2', '_view_id': 'classification', 'answer': 'reject'}\n",
      "{'text': \"@jaketapper @RonanFarrow <TARGET> does not belong in this country and this time. I don't even think the cavemen would have tolerated it.\", 'meta': {'tweet_id': '924122523846848512', 'body_target_mentions_target': 'weinstein', 'quoted_status_target_mentions': None, 'score': 0.4884682596}, '_input_hash': -910272021, '_task_hash': -1938608090, 'label': 'condemnation', 'score': 0.4884682596, 'priority': 0.4884682596, 'spans': [], '_session_id': 'ta_tweets-test2', '_view_id': 'classification', 'answer': 'accept'}\n",
      "{'text': 'It’s Time for Donald Trump to be <TARGET>ed | National Review https://t.co/q52wCePoNx', 'meta': {'tweet_id': '924122568407347201', 'body_target_mentions_target': 'weinstein', 'quoted_status_target_mentions': None, 'score': 0.3228727579}, '_input_hash': -1496221180, '_task_hash': -1257756955, 'label': 'condemnation', 'score': 0.3228727579, 'priority': 0.3228727579, 'spans': [], '_session_id': 'ta_tweets-test2', '_view_id': 'classification', 'answer': 'reject'}\n",
      "{'text': 'New <TARGET> sexual assault accusations emerge https://t.co/WPPTYRrm3T https://t.co/U3eDtORK1T', 'meta': {'tweet_id': '924122827732656128', 'body_target_mentions_target': 'weinstein', 'quoted_status_target_mentions': None, 'score': 0.3465416133}, '_input_hash': -203836779, '_task_hash': -1327743453, 'label': 'condemnation', 'score': 0.3465416133, 'priority': 0.3465416133, 'spans': [], '_session_id': 'ta_tweets-test2', '_view_id': 'classification', 'answer': 'reject'}\n",
      "{'text': 'New <TARGET> sexual assault accusations emerge via the @FoxNews App https://t.co/4gyrDF8WHe', 'meta': {'tweet_id': '924122873790218240', 'body_target_mentions_target': 'weinstein', 'quoted_status_target_mentions': None, 'score': 0.3585190177}, '_input_hash': 630066531, '_task_hash': 151307863, 'label': 'condemnation', 'score': 0.3585190177, 'priority': 0.3585190177, 'spans': [], '_session_id': 'ta_tweets-test2', '_view_id': 'classification', 'answer': 'reject'}\n",
      "{'text': 'Who advised #<TARGET><TARGET> on his overly contrived #apology. Seems likely to invite pre-and-post #ABC #MeToo victims? https://t.co/gBo9iG3wzS', 'meta': {'tweet_id': '924123334102614016', 'body_target_mentions_target': 'halperin', 'quoted_status_target_mentions': None, 'score': 0.2272523046}, '_input_hash': -1602415481, '_task_hash': -1429060382, 'label': 'condemnation', 'score': 0.2272523046, 'priority': 0.2272523046, 'spans': [], '_session_id': 'ta_tweets-test2', '_view_id': 'classification', 'answer': 'reject'}\n",
      "{'text': 'Mix - <TARGET> - The Champ (Bowl Week): https://t.co/qSMEYOOPc0 💪🌹', 'meta': {'tweet_id': '924122415604600832', 'body_target_mentions_target': 'nelly', 'quoted_status_target_mentions': None, 'score': 0.408231616}, '_input_hash': -1626006843, '_task_hash': -1634387856, 'label': 'condemnation', 'score': 0.408231616, 'priority': 0.408231616, 'spans': [], '_session_id': 'ta_tweets-test2', '_view_id': 'classification', 'answer': 'reject'}\n",
      "{'text': '<TARGET> Apologizes to Women He ‘Mistreated’ https://t.co/6iN7pPmrsJ #NYT #Business', 'meta': {'tweet_id': '924123327249051648', 'body_target_mentions_target': 'halperin', 'quoted_status_target_mentions': None, 'score': 0.3726925254}, '_input_hash': -2088676898, '_task_hash': -1516440065, 'label': 'condemnation', 'score': 0.3726925254, 'priority': 0.3726925254, 'spans': [], '_session_id': 'ta_tweets-test2', '_view_id': 'classification', 'answer': 'reject'}\n",
      "{'text': '@washingtonpost Obviously. All of the conspiracies about Clinton and <TARGET> accusers are all to be taken as truth. Anything against trumpy is fake news 🙄', 'meta': {'tweet_id': '924123412489846784', 'body_target_mentions_target': 'weinstein', 'quoted_status_target_mentions': None, 'score': 0.3900079429}, '_input_hash': -1729874597, '_task_hash': 341544194, 'label': 'condemnation', 'score': 0.3900079429, 'priority': 0.3900079429, 'spans': [], '_session_id': 'ta_tweets-test2', '_view_id': 'classification', 'answer': 'reject'}\n",
      "{'text': 'New <TARGET> sexual assault accusations emerge - https://t.co/grqwhgRkOU https://t.co/UMhvkzQ0na', 'meta': {'tweet_id': '924122655128784897', 'body_target_mentions_target': 'weinstein', 'quoted_status_target_mentions': None, 'score': 0.4088194072}, '_input_hash': 1471600880, '_task_hash': 1366019359, 'label': 'condemnation', 'score': 0.4088194072, 'priority': 0.4088194072, 'spans': [], '_session_id': 'ta_tweets-test2', '_view_id': 'classification', 'answer': 'reject'}\n",
      "{'text': '<TARGET> Targeted College Girls Too #NewsGrit https://t.co/hlNan38Q6C', 'meta': {'tweet_id': '924122947723382786', 'body_target_mentions_target': 'halperin', 'quoted_status_target_mentions': None, 'score': 0.3503395319}, '_input_hash': -869096413, '_task_hash': 119518098, 'label': 'condemnation', 'score': 0.3503395319, 'priority': 0.3503395319, 'spans': [], '_session_id': 'ta_tweets-test2', '_view_id': 'classification', 'answer': 'reject'}\n",
      "{'text': 'I’m one of the women accusing <TARGET> of sexual harassment. He’s part of a much bigger problem. - https://t.co/TYizlVoWim', 'meta': {'tweet_id': '924123260777914369', 'body_target_mentions_target': 'halperin', 'quoted_status_target_mentions': None, 'score': 0.4565391839}, '_input_hash': 826151338, '_task_hash': -1637220125, 'label': 'condemnation', 'score': 0.4565391839, 'priority': 0.4565391839, 'spans': [], '_session_id': 'ta_tweets-test2', '_view_id': 'classification', 'answer': 'accept'}\n",
      "{'text': 'thanks <TARGET>😭😭😭 thanks for always being here for me! love you so so much💗 https://t.co/F3RBDPwMl2', 'meta': {'tweet_id': '924121553582936064', 'body_target_mentions_target': 'lacey', 'quoted_status_target_mentions': None, 'score': 0.4998016655}, '_input_hash': -568468259, '_task_hash': -1374532188, 'label': 'condemnation', 'score': 0.4998016655, 'priority': 0.4998016655, 'spans': [], '_session_id': 'ta_tweets-test3', '_view_id': 'classification', 'answer': 'reject'}\n",
      "{'text': \"<TARGET> apologizes for 'aggressive and crude' behavior toward women… https://t.co/wU6M2hrnDP bench #Lifestyle\", 'meta': {'tweet_id': '924121315761586176', 'body_target_mentions_target': 'halperin', 'quoted_status_target_mentions': None, 'score': 0.4669130147}, '_input_hash': 571695367, '_task_hash': 398448599, 'label': 'condemnation', 'score': 0.4669130147, 'priority': 0.4669130147, 'spans': [], '_session_id': 'ta_tweets-test3', '_view_id': 'classification', 'answer': 'reject'}\n",
      "{'text': '@Missy314 <TARGET> walked him to school..... Draymond would put him in the dirt', 'meta': {'tweet_id': '924122075450757121', 'body_target_mentions_target': 'nelly', 'quoted_status_target_mentions': None, 'score': 0.5395108461}, '_input_hash': -784677738, '_task_hash': 1911676406, 'label': 'condemnation', 'score': 0.5395108461, 'priority': 0.5395108461, 'spans': [], '_session_id': 'ta_tweets-test3', '_view_id': 'classification', 'answer': 'reject'}\n",
      "Dataset condemnation_dataset downloaded and prepared to /home/geev/.cache/huggingface/datasets/condemnation_dataset/condemnation-3bcd13f68545b6d6/1.1.0/2d11a89d403f72a2f7ba5445f34e4a087d9bcba4725de34905e15c20bd4e82fe. Subsequent calls will reuse this data.\n"
     ]
    }
   ],
   "source": [
    "from datasets import load_dataset\n",
    "\n",
    "\n",
    "dataset = load_dataset(\"my_dataset_loading_script\", name=\"condemnation\", data_files=\"../joes_transgression_ambiguity_project/data/annotated_tweets/ta_tweets.jsonl\")"
   ]
  },
  {
   "cell_type": "code",
   "execution_count": 27,
   "id": "3f5c2a59",
   "metadata": {},
   "outputs": [
    {
     "data": {
      "text/plain": [
       "DatasetDict({\n",
       "    train: Dataset({\n",
       "        features: ['text', 'answer'],\n",
       "        num_rows: 48\n",
       "    })\n",
       "    test: Dataset({\n",
       "        features: ['text', 'answer'],\n",
       "        num_rows: 48\n",
       "    })\n",
       "    validation: Dataset({\n",
       "        features: ['text', 'answer'],\n",
       "        num_rows: 48\n",
       "    })\n",
       "})"
      ]
     },
     "execution_count": 27,
     "metadata": {},
     "output_type": "execute_result"
    }
   ],
   "source": [
    "dataset"
   ]
  },
  {
   "cell_type": "code",
   "execution_count": null,
   "id": "5067b061",
   "metadata": {},
   "outputs": [],
   "source": []
  }
 ],
 "metadata": {
  "kernelspec": {
   "display_name": "transgression-env",
   "language": "python",
   "name": "transgression-env"
  },
  "language_info": {
   "codemirror_mode": {
    "name": "ipython",
    "version": 3
   },
   "file_extension": ".py",
   "mimetype": "text/x-python",
   "name": "python",
   "nbconvert_exporter": "python",
   "pygments_lexer": "ipython3",
   "version": "3.6.9"
  }
 },
 "nbformat": 4,
 "nbformat_minor": 5
}
