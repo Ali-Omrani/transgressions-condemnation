{
 "cells": [
  {
   "cell_type": "markdown",
   "id": "603d448e",
   "metadata": {},
   "source": [
    "### Loading the dataset"
   ]
  },
  {
   "cell_type": "code",
   "execution_count": 62,
   "id": "49fbfb03",
   "metadata": {},
   "outputs": [
    {
     "name": "stdout",
     "output_type": "stream",
     "text": [
      "\u001b[33mWARNING: Skipping jedi as it is not installed.\u001b[0m\r\n"
     ]
    }
   ],
   "source": [
    "!pip uninstall jedi\n",
    "from datasets import load_dataset\n",
    "from pathlib import Path\n",
    "import os"
   ]
  },
  {
   "cell_type": "code",
   "execution_count": 4,
   "id": "ca0be7bd",
   "metadata": {},
   "outputs": [],
   "source": [
    "# reading the jsonl dataset\n",
    "data_dir = Path(\"../joes_transgression_ambiguity_project/data/annotated_tweets/ta_tweets.jsonl\")\n",
    "\n",
    "import pandas as pd    \n",
    "jsonObj = pd.read_json(path_or_buf=data_dir, lines=True)\n",
    "\n"
   ]
  },
  {
   "cell_type": "code",
   "execution_count": 5,
   "id": "021f7abb",
   "metadata": {},
   "outputs": [
    {
     "data": {
      "text/plain": [
       "'reject'"
      ]
     },
     "execution_count": 5,
     "metadata": {},
     "output_type": "execute_result"
    }
   ],
   "source": [
    "jsonObj.head()[\"answer\"][2]"
   ]
  },
  {
   "cell_type": "code",
   "execution_count": 6,
   "id": "3779822d",
   "metadata": {},
   "outputs": [
    {
     "data": {
      "text/plain": [
       "Index(['text', 'meta', '_input_hash', '_task_hash', 'label', 'score',\n",
       "       'priority', 'spans', '_session_id', '_view_id', 'answer'],\n",
       "      dtype='object')"
      ]
     },
     "execution_count": 6,
     "metadata": {},
     "output_type": "execute_result"
    }
   ],
   "source": [
    "jsonObj.columns"
   ]
  },
  {
   "cell_type": "markdown",
   "id": "b849720e",
   "metadata": {},
   "source": [
    "### Huggingface dataset loading script\n",
    "can be used later to publish the dataset on huggingface hub for better outreach"
   ]
  },
  {
   "cell_type": "markdown",
   "id": "734138b3",
   "metadata": {},
   "source": [
    "### Testing the dataset loading script"
   ]
  },
  {
   "cell_type": "code",
   "execution_count": 31,
   "id": "d96bed9c",
   "metadata": {
    "scrolled": true
   },
   "outputs": [
    {
     "name": "stderr",
     "output_type": "stream",
     "text": [
      "Reusing dataset condemnation_dataset (/home/geev/.cache/huggingface/datasets/condemnation_dataset/condemnation/1.1.0/a430c0ac9660e8ba6ce252e564d88528d156f575bd9dbfe6e30bd1fa1c359008)\n"
     ]
    }
   ],
   "source": [
    "from datasets import load_dataset\n",
    "\n",
    "\n",
    "dataset = load_dataset(\"my_dataset_loading_script\", name=\"condemnation\")"
   ]
  },
  {
   "cell_type": "code",
   "execution_count": 32,
   "id": "3f5c2a59",
   "metadata": {},
   "outputs": [
    {
     "data": {
      "text/plain": [
       "(1680, 2)"
      ]
     },
     "execution_count": 32,
     "metadata": {},
     "output_type": "execute_result"
    }
   ],
   "source": [
    "train_dataset = dataset[\"train\"]\n",
    "train_dataset.shape"
   ]
  },
  {
   "cell_type": "code",
   "execution_count": 33,
   "id": "5067b061",
   "metadata": {},
   "outputs": [
    {
     "data": {
      "text/plain": [
       "{'text': \"Colorado's House Speaker (D) Crisanta Duran removes Rep. -JOHN DOE- from a position following a report of sexual harrassment\",\n",
       " 'label': 0}"
      ]
     },
     "execution_count": 33,
     "metadata": {},
     "output_type": "execute_result"
    }
   ],
   "source": [
    "train_dataset[0]"
   ]
  },
  {
   "cell_type": "code",
   "execution_count": 34,
   "id": "128a7d82",
   "metadata": {},
   "outputs": [
    {
     "data": {
      "text/plain": [
       "{'text': Value(dtype='string', id=None),\n",
       " 'label': Value(dtype='int64', id=None)}"
      ]
     },
     "execution_count": 34,
     "metadata": {},
     "output_type": "execute_result"
    }
   ],
   "source": [
    "train_dataset.features"
   ]
  },
  {
   "cell_type": "code",
   "execution_count": 35,
   "id": "af63a78c",
   "metadata": {},
   "outputs": [
    {
     "data": {
      "text/plain": [
       "683445"
      ]
     },
     "execution_count": 35,
     "metadata": {},
     "output_type": "execute_result"
    }
   ],
   "source": [
    "train_dataset.dataset_size"
   ]
  },
  {
   "cell_type": "code",
   "execution_count": 36,
   "id": "a42d92e6",
   "metadata": {},
   "outputs": [
    {
     "data": {
      "text/plain": [
       "OrderedDict([('text',\n",
       "              [\"Colorado's House Speaker (D) Crisanta Duran removes Rep. -JOHN DOE- from a position following a report of sexual harrassment\",\n",
       "               '⚡️ “NPR chief -JOHN DOE- resigns in light of harassment allegations” URL',\n",
       "               \"-JOHN DOE- regrets being 'really hurtful to women' - CNET\",\n",
       "               \"Here we go again. Yet another LIBERAL accused of sexual harassment. This time it's -JOHN DOE- from none other than ultra-liberal #NPR. The lack of moral compass and integrity will be undoing of what is left of Democrat Party. #MAGA #WednesdayWisdom #tcot #WorldVeganDay URL\",\n",
       "               'I remember when everyone was dickriding -JOHN DOE- as a \"great writer\" and \"the only decent IGN employee\". I never understood it and got lots of shit for saying he always came off as a weird pervert in videos. Fucking called it years ago. And his writing was pure garbage.',\n",
       "               \"I'm a Matt Damon fan, can't even believe he was friends w -JOHN DOE- they're opposites!\",\n",
       "               'Darn it. I was hoping a generation of tech employees would grow up not knowing who -JOHN DOE- was.',\n",
       "               'Action Star -JOHN DOE- Hit By Sexual Harassment Allegations URL',\n",
       "               'Moore, <OTHER TARGET 2>, -JOHN DOE-, Mueller, Putin/Trump in Vietnam, the tax \"cut\" bill from the Senate...how long is it going to take to unpack, and then how much longer to start healing.',\n",
       "               'Moore, -JOHN DOE-, <OTHER TARGET 1>, Mueller, Putin/Trump in Vietnam, the tax \"cut\" bill from the Senate...how long is it going to take to unpack, and then how much longer to start healing.']),\n",
       "             ('label', [0, 0, 0, 1, 1, 1, 0, 0, 1, 1])])"
      ]
     },
     "execution_count": 36,
     "metadata": {},
     "output_type": "execute_result"
    }
   ],
   "source": [
    "# train_dataset.set_format(type=\"torch\", columns=[\"label\"])\n",
    "train_dataset[:10]"
   ]
  },
  {
   "cell_type": "code",
   "execution_count": 59,
   "id": "32b7ffae",
   "metadata": {},
   "outputs": [],
   "source": [
    "from transformers import BertTokenizer\n",
    "tokenizer = BertTokenizer.from_pretrained(\"bert-base-uncased\")\n",
    "def encode(batch):\n",
    "    return tokenizer(batch[\"text\"], padding=\"longest\", truncation=True, max_length=512, return_tensors=\"pt\")\n",
    "# train_dataset.set_format(type=\"torch\", columns=[\"label\"], output_all_columns=True)\n",
    "train_dataset.set_transform(encode, columns=[\"text\"], output_all_columns=True)\n"
   ]
  },
  {
   "cell_type": "code",
   "execution_count": 60,
   "id": "ec05dcc5",
   "metadata": {},
   "outputs": [
    {
     "data": {
      "text/plain": [
       "{'input_ids': tensor([  101,  5169,  1005,  1055,  2160,  5882,  1006,  1040,  1007, 13675,\n",
       "         29196,  2696, 22959, 20362, 16360,  1012,  1011,  2198, 18629,  1011,\n",
       "          2013,  1037,  2597,  2206,  1037,  3189,  1997,  4424,  5292, 11335,\n",
       "          4757,  3672,   102]),\n",
       " 'token_type_ids': tensor([0, 0, 0, 0, 0, 0, 0, 0, 0, 0, 0, 0, 0, 0, 0, 0, 0, 0, 0, 0, 0, 0, 0, 0,\n",
       "         0, 0, 0, 0, 0, 0, 0, 0, 0]),\n",
       " 'attention_mask': tensor([1, 1, 1, 1, 1, 1, 1, 1, 1, 1, 1, 1, 1, 1, 1, 1, 1, 1, 1, 1, 1, 1, 1, 1,\n",
       "         1, 1, 1, 1, 1, 1, 1, 1, 1]),\n",
       " 'label': 0}"
      ]
     },
     "execution_count": 60,
     "metadata": {},
     "output_type": "execute_result"
    }
   ],
   "source": [
    "train_dataset[0]"
   ]
  },
  {
   "cell_type": "code",
   "execution_count": 43,
   "id": "8e746326",
   "metadata": {},
   "outputs": [
    {
     "data": {
      "text/plain": [
       "{'text': \"Colorado's House Speaker (D) Crisanta Duran removes Rep. -JOHN DOE- from a position following a report of sexual harrassment\",\n",
       " 'label': 0}"
      ]
     },
     "execution_count": 43,
     "metadata": {},
     "output_type": "execute_result"
    }
   ],
   "source": [
    "train_dataset.reset_format()\n",
    "train_dataset[0]"
   ]
  },
  {
   "cell_type": "markdown",
   "id": "72bb932b",
   "metadata": {},
   "source": [
    "### Selecting the training set"
   ]
  },
  {
   "cell_type": "code",
   "execution_count": 82,
   "id": "84b9c534",
   "metadata": {},
   "outputs": [
    {
     "name": "stdout",
     "output_type": "stream",
     "text": [
      "StratifiedShuffleSplit(n_splits=1, random_state=0, test_size=0.2,\n",
      "            train_size=None)\n",
      "[1509  415  988 ...  864 1143   91]\n"
     ]
    }
   ],
   "source": [
    "import pandas as pd\n",
    "from sklearn.model_selection import StratifiedShuffleSplit\n",
    "data_dir = \"my_dataset_loading_script\"\n",
    "file_name = \"nour_jillian_condemnation_r2_to_r7_maj_vote.jsonl\"\n",
    "def create_train_test(data_dir, file_name):\n",
    "    file_path = os.path.join(data_dir, file_name )\n",
    "    ds_df = pd.read_json(file_path, lines=True)\n",
    "    sss = StratifiedShuffleSplit(n_splits=1, test_size=0.2, random_state=0)\n",
    "    sss.get_n_splits(ds_df, ds_df[\"label\"])\n",
    "    print(sss)\n",
    "#     print(ds_df)\n",
    "    for train_index, test_index in sss.split(ds_df, ds_df[\"label\"]):\n",
    "        print(train_index)\n",
    "        train_df= ds_df.iloc[train_index,:]\n",
    "        test_df= ds_df.iloc[test_index,:]\n",
    "\n",
    "#         test_df = ds_df[test_index]\n",
    "    return train_df, test_df\n",
    "train_df, test_df = create_train_test(data_dir, file_name)\n",
    "        "
   ]
  },
  {
   "cell_type": "code",
   "execution_count": 83,
   "id": "c448a118",
   "metadata": {},
   "outputs": [
    {
     "data": {
      "text/html": [
       "<div>\n",
       "<style scoped>\n",
       "    .dataframe tbody tr th:only-of-type {\n",
       "        vertical-align: middle;\n",
       "    }\n",
       "\n",
       "    .dataframe tbody tr th {\n",
       "        vertical-align: top;\n",
       "    }\n",
       "\n",
       "    .dataframe thead th {\n",
       "        text-align: right;\n",
       "    }\n",
       "</style>\n",
       "<table border=\"1\" class=\"dataframe\">\n",
       "  <thead>\n",
       "    <tr style=\"text-align: right;\">\n",
       "      <th></th>\n",
       "      <th>text</th>\n",
       "      <th>meta</th>\n",
       "      <th>spans</th>\n",
       "      <th>label</th>\n",
       "      <th>accept</th>\n",
       "      <th>_input_hash</th>\n",
       "      <th>_task_hash</th>\n",
       "    </tr>\n",
       "  </thead>\n",
       "  <tbody>\n",
       "    <tr>\n",
       "      <th>1509</th>\n",
       "      <td>As multiple sexual allegations come to light w...</td>\n",
       "      <td>{'tweet_id': '926127519996284930', 'mask_map':...</td>\n",
       "      <td>[{'start': 86, 'end': 96, 'label': 'TARGET', '...</td>\n",
       "      <td>1</td>\n",
       "      <td>[1]</td>\n",
       "      <td>988241343</td>\n",
       "      <td>-1705654849</td>\n",
       "    </tr>\n",
       "    <tr>\n",
       "      <th>415</th>\n",
       "      <td>Matt Damon and -JOHN DOE- are trash</td>\n",
       "      <td>{'tweet_id': '918550792159809536', 'mask_map':...</td>\n",
       "      <td>[{'start': 15, 'end': 25, 'label': 'TARGET', '...</td>\n",
       "      <td>1</td>\n",
       "      <td>[1]</td>\n",
       "      <td>50425953</td>\n",
       "      <td>-794092664</td>\n",
       "    </tr>\n",
       "    <tr>\n",
       "      <th>988</th>\n",
       "      <td>Thought we all knew tht -JOHN DOE- is a narcis...</td>\n",
       "      <td>{'tweet_id': '930519051985702912', 'mask_map':...</td>\n",
       "      <td>[{'start': 24, 'end': 34, 'label': 'TARGET', '...</td>\n",
       "      <td>1</td>\n",
       "      <td>[1]</td>\n",
       "      <td>-234698601</td>\n",
       "      <td>1324554293</td>\n",
       "    </tr>\n",
       "    <tr>\n",
       "      <th>717</th>\n",
       "      <td>-JOHN DOE- you disgusting pig!</td>\n",
       "      <td>{'tweet_id': '930239315082276865', 'mask_map':...</td>\n",
       "      <td>[{'start': 0, 'end': 10, 'label': 'TARGET', 't...</td>\n",
       "      <td>1</td>\n",
       "      <td>[1]</td>\n",
       "      <td>-327785023</td>\n",
       "      <td>-1391804760</td>\n",
       "    </tr>\n",
       "    <tr>\n",
       "      <th>1638</th>\n",
       "      <td>Breaking #FoxNews Alert : Amazon executive -JO...</td>\n",
       "      <td>{'tweet_id': '918635828649316357', 'mask_map':...</td>\n",
       "      <td>[{'start': 43, 'end': 53, 'label': 'TARGET', '...</td>\n",
       "      <td>0</td>\n",
       "      <td>[0]</td>\n",
       "      <td>-1026344183</td>\n",
       "      <td>-1981569558</td>\n",
       "    </tr>\n",
       "    <tr>\n",
       "      <th>...</th>\n",
       "      <td>...</td>\n",
       "      <td>...</td>\n",
       "      <td>...</td>\n",
       "      <td>...</td>\n",
       "      <td>...</td>\n",
       "      <td>...</td>\n",
       "      <td>...</td>\n",
       "    </tr>\n",
       "    <tr>\n",
       "      <th>719</th>\n",
       "      <td>This -JOHN DOE- assclown deserves a swift kick...</td>\n",
       "      <td>{'tweet_id': '929138533851332608', 'mask_map':...</td>\n",
       "      <td>[{'start': 5, 'end': 15, 'label': 'TARGET', 't...</td>\n",
       "      <td>1</td>\n",
       "      <td>[1]</td>\n",
       "      <td>-381481591</td>\n",
       "      <td>1445145295</td>\n",
       "    </tr>\n",
       "    <tr>\n",
       "      <th>96</th>\n",
       "      <td>Megathread: &lt;OTHER TARGET 2&gt; Accused Of Gropin...</td>\n",
       "      <td>{'tweet_id': '929266744077770753', 'mask_map':...</td>\n",
       "      <td>[{'start': 75, 'end': 85, 'label': 'TARGET', '...</td>\n",
       "      <td>0</td>\n",
       "      <td>[0]</td>\n",
       "      <td>-425643853</td>\n",
       "      <td>-1035145577</td>\n",
       "    </tr>\n",
       "    <tr>\n",
       "      <th>864</th>\n",
       "      <td>Kirsten Dunst looked a lot sadder when I ran o...</td>\n",
       "      <td>{'tweet_id': '920547630270287872', 'mask_map':...</td>\n",
       "      <td>[{'start': 99, 'end': 109, 'label': 'TARGET', ...</td>\n",
       "      <td>0</td>\n",
       "      <td>[0]</td>\n",
       "      <td>1820530875</td>\n",
       "      <td>486049093</td>\n",
       "    </tr>\n",
       "    <tr>\n",
       "      <th>1143</th>\n",
       "      <td>-JOHN DOE- is a Rapist. &lt;OTHER TARGET 2&gt; is a ...</td>\n",
       "      <td>{'tweet_id': '926275253269139456', 'mask_map':...</td>\n",
       "      <td>[{'start': 0, 'end': 10, 'label': 'TARGET', 't...</td>\n",
       "      <td>1</td>\n",
       "      <td>[1]</td>\n",
       "      <td>-1923711609</td>\n",
       "      <td>1604338362</td>\n",
       "    </tr>\n",
       "    <tr>\n",
       "      <th>91</th>\n",
       "      <td>What channel are you watching @billmaher @CNN ...</td>\n",
       "      <td>{'tweet_id': '929460780805877760', 'mask_map':...</td>\n",
       "      <td>[{'start': 124, 'end': 134, 'label': 'TARGET',...</td>\n",
       "      <td>1</td>\n",
       "      <td>[1]</td>\n",
       "      <td>2030013408</td>\n",
       "      <td>-1576832995</td>\n",
       "    </tr>\n",
       "  </tbody>\n",
       "</table>\n",
       "<p>1344 rows × 7 columns</p>\n",
       "</div>"
      ],
      "text/plain": [
       "                                                   text  \\\n",
       "1509  As multiple sexual allegations come to light w...   \n",
       "415                 Matt Damon and -JOHN DOE- are trash   \n",
       "988   Thought we all knew tht -JOHN DOE- is a narcis...   \n",
       "717                      -JOHN DOE- you disgusting pig!   \n",
       "1638  Breaking #FoxNews Alert : Amazon executive -JO...   \n",
       "...                                                 ...   \n",
       "719   This -JOHN DOE- assclown deserves a swift kick...   \n",
       "96    Megathread: <OTHER TARGET 2> Accused Of Gropin...   \n",
       "864   Kirsten Dunst looked a lot sadder when I ran o...   \n",
       "1143  -JOHN DOE- is a Rapist. <OTHER TARGET 2> is a ...   \n",
       "91    What channel are you watching @billmaher @CNN ...   \n",
       "\n",
       "                                                   meta  \\\n",
       "1509  {'tweet_id': '926127519996284930', 'mask_map':...   \n",
       "415   {'tweet_id': '918550792159809536', 'mask_map':...   \n",
       "988   {'tweet_id': '930519051985702912', 'mask_map':...   \n",
       "717   {'tweet_id': '930239315082276865', 'mask_map':...   \n",
       "1638  {'tweet_id': '918635828649316357', 'mask_map':...   \n",
       "...                                                 ...   \n",
       "719   {'tweet_id': '929138533851332608', 'mask_map':...   \n",
       "96    {'tweet_id': '929266744077770753', 'mask_map':...   \n",
       "864   {'tweet_id': '920547630270287872', 'mask_map':...   \n",
       "1143  {'tweet_id': '926275253269139456', 'mask_map':...   \n",
       "91    {'tweet_id': '929460780805877760', 'mask_map':...   \n",
       "\n",
       "                                                  spans  label accept  \\\n",
       "1509  [{'start': 86, 'end': 96, 'label': 'TARGET', '...      1    [1]   \n",
       "415   [{'start': 15, 'end': 25, 'label': 'TARGET', '...      1    [1]   \n",
       "988   [{'start': 24, 'end': 34, 'label': 'TARGET', '...      1    [1]   \n",
       "717   [{'start': 0, 'end': 10, 'label': 'TARGET', 't...      1    [1]   \n",
       "1638  [{'start': 43, 'end': 53, 'label': 'TARGET', '...      0    [0]   \n",
       "...                                                 ...    ...    ...   \n",
       "719   [{'start': 5, 'end': 15, 'label': 'TARGET', 't...      1    [1]   \n",
       "96    [{'start': 75, 'end': 85, 'label': 'TARGET', '...      0    [0]   \n",
       "864   [{'start': 99, 'end': 109, 'label': 'TARGET', ...      0    [0]   \n",
       "1143  [{'start': 0, 'end': 10, 'label': 'TARGET', 't...      1    [1]   \n",
       "91    [{'start': 124, 'end': 134, 'label': 'TARGET',...      1    [1]   \n",
       "\n",
       "      _input_hash  _task_hash  \n",
       "1509    988241343 -1705654849  \n",
       "415      50425953  -794092664  \n",
       "988    -234698601  1324554293  \n",
       "717    -327785023 -1391804760  \n",
       "1638  -1026344183 -1981569558  \n",
       "...           ...         ...  \n",
       "719    -381481591  1445145295  \n",
       "96     -425643853 -1035145577  \n",
       "864    1820530875   486049093  \n",
       "1143  -1923711609  1604338362  \n",
       "91     2030013408 -1576832995  \n",
       "\n",
       "[1344 rows x 7 columns]"
      ]
     },
     "execution_count": 83,
     "metadata": {},
     "output_type": "execute_result"
    }
   ],
   "source": [
    "train_df"
   ]
  },
  {
   "cell_type": "code",
   "execution_count": null,
   "id": "07d6ab25",
   "metadata": {},
   "outputs": [],
   "source": []
  }
 ],
 "metadata": {
  "kernelspec": {
   "display_name": "transgression-env",
   "language": "python",
   "name": "transgression-env"
  },
  "language_info": {
   "codemirror_mode": {
    "name": "ipython",
    "version": 3
   },
   "file_extension": ".py",
   "mimetype": "text/x-python",
   "name": "python",
   "nbconvert_exporter": "python",
   "pygments_lexer": "ipython3",
   "version": "3.6.9"
  }
 },
 "nbformat": 4,
 "nbformat_minor": 5
}
