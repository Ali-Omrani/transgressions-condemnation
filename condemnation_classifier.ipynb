{
 "cells": [
  {
   "cell_type": "markdown",
   "id": "603d448e",
   "metadata": {},
   "source": [
    "### Loading the dataset"
   ]
  },
  {
   "cell_type": "code",
   "execution_count": 62,
   "id": "49fbfb03",
   "metadata": {},
   "outputs": [
    {
     "name": "stdout",
     "output_type": "stream",
     "text": [
      "\u001b[33mWARNING: Skipping jedi as it is not installed.\u001b[0m\r\n"
     ]
    }
   ],
   "source": [
    "!pip uninstall jedi\n",
    "from datasets import load_dataset\n",
    "from pathlib import Path\n",
    "import os"
   ]
  },
  {
   "cell_type": "code",
   "execution_count": 4,
   "id": "ca0be7bd",
   "metadata": {},
   "outputs": [],
   "source": [
    "# reading the jsonl dataset\n",
    "data_dir = Path(\"../joes_transgression_ambiguity_project/data/annotated_tweets/ta_tweets.jsonl\")\n",
    "\n",
    "import pandas as pd    \n",
    "jsonObj = pd.read_json(path_or_buf=data_dir, lines=True)\n",
    "\n"
   ]
  },
  {
   "cell_type": "code",
   "execution_count": 5,
   "id": "021f7abb",
   "metadata": {},
   "outputs": [
    {
     "data": {
      "text/plain": [
       "'reject'"
      ]
     },
     "execution_count": 5,
     "metadata": {},
     "output_type": "execute_result"
    }
   ],
   "source": [
    "jsonObj.head()[\"answer\"][2]"
   ]
  },
  {
   "cell_type": "code",
   "execution_count": 6,
   "id": "3779822d",
   "metadata": {},
   "outputs": [
    {
     "data": {
      "text/plain": [
       "Index(['text', 'meta', '_input_hash', '_task_hash', 'label', 'score',\n",
       "       'priority', 'spans', '_session_id', '_view_id', 'answer'],\n",
       "      dtype='object')"
      ]
     },
     "execution_count": 6,
     "metadata": {},
     "output_type": "execute_result"
    }
   ],
   "source": [
    "jsonObj.columns"
   ]
  },
  {
   "cell_type": "markdown",
   "id": "b849720e",
   "metadata": {},
   "source": [
    "### Huggingface dataset loading script\n",
    "can be used later to publish the dataset on huggingface hub for better outreach"
   ]
  },
  {
   "cell_type": "markdown",
   "id": "734138b3",
   "metadata": {},
   "source": [
    "### Testing the dataset loading script"
   ]
  },
  {
   "cell_type": "code",
   "execution_count": 31,
   "id": "d96bed9c",
   "metadata": {
    "scrolled": true
   },
   "outputs": [
    {
     "name": "stderr",
     "output_type": "stream",
     "text": [
      "Reusing dataset condemnation_dataset (/home/geev/.cache/huggingface/datasets/condemnation_dataset/condemnation/1.1.0/a430c0ac9660e8ba6ce252e564d88528d156f575bd9dbfe6e30bd1fa1c359008)\n"
     ]
    }
   ],
   "source": [
    "from datasets import load_dataset\n",
    "\n",
    "\n",
    "dataset = load_dataset(\"my_dataset_loading_script\", name=\"condemnation\")"
   ]
  },
  {
   "cell_type": "code",
   "execution_count": 32,
   "id": "3f5c2a59",
   "metadata": {},
   "outputs": [
    {
     "data": {
      "text/plain": [
       "(1680, 2)"
      ]
     },
     "execution_count": 32,
     "metadata": {},
     "output_type": "execute_result"
    }
   ],
   "source": [
    "train_dataset = dataset[\"train\"]\n",
    "train_dataset.shape"
   ]
  },
  {
   "cell_type": "code",
   "execution_count": 33,
   "id": "5067b061",
   "metadata": {},
   "outputs": [
    {
     "data": {
      "text/plain": [
       "{'text': \"Colorado's House Speaker (D) Crisanta Duran removes Rep. -JOHN DOE- from a position following a report of sexual harrassment\",\n",
       " 'label': 0}"
      ]
     },
     "execution_count": 33,
     "metadata": {},
     "output_type": "execute_result"
    }
   ],
   "source": [
    "train_dataset[0]"
   ]
  },
  {
   "cell_type": "code",
   "execution_count": 34,
   "id": "bdc579d6",
   "metadata": {},
   "outputs": [
    {
     "data": {
      "text/plain": [
       "{'text': Value(dtype='string', id=None),\n",
       " 'label': Value(dtype='int64', id=None)}"
      ]
     },
     "execution_count": 34,
     "metadata": {},
     "output_type": "execute_result"
    }
   ],
   "source": [
    "train_dataset.features"
   ]
  },
  {
   "cell_type": "code",
   "execution_count": 35,
   "id": "9a9390d5",
   "metadata": {},
   "outputs": [
    {
     "data": {
      "text/plain": [
       "683445"
      ]
     },
     "execution_count": 35,
     "metadata": {},
     "output_type": "execute_result"
    }
   ],
   "source": [
    "train_dataset.dataset_size"
   ]
  },
  {
   "cell_type": "code",
   "execution_count": 36,
   "id": "4cace69c",
   "metadata": {},
   "outputs": [
    {
     "data": {
      "text/plain": [
       "OrderedDict([('text',\n",
       "              [\"Colorado's House Speaker (D) Crisanta Duran removes Rep. -JOHN DOE- from a position following a report of sexual harrassment\",\n",
       "               '⚡️ “NPR chief -JOHN DOE- resigns in light of harassment allegations” URL',\n",
       "               \"-JOHN DOE- regrets being 'really hurtful to women' - CNET\",\n",
       "               \"Here we go again. Yet another LIBERAL accused of sexual harassment. This time it's -JOHN DOE- from none other than ultra-liberal #NPR. The lack of moral compass and integrity will be undoing of what is left of Democrat Party. #MAGA #WednesdayWisdom #tcot #WorldVeganDay URL\",\n",
       "               'I remember when everyone was dickriding -JOHN DOE- as a \"great writer\" and \"the only decent IGN employee\". I never understood it and got lots of shit for saying he always came off as a weird pervert in videos. Fucking called it years ago. And his writing was pure garbage.',\n",
       "               \"I'm a Matt Damon fan, can't even believe he was friends w -JOHN DOE- they're opposites!\",\n",
       "               'Darn it. I was hoping a generation of tech employees would grow up not knowing who -JOHN DOE- was.',\n",
       "               'Action Star -JOHN DOE- Hit By Sexual Harassment Allegations URL',\n",
       "               'Moore, <OTHER TARGET 2>, -JOHN DOE-, Mueller, Putin/Trump in Vietnam, the tax \"cut\" bill from the Senate...how long is it going to take to unpack, and then how much longer to start healing.',\n",
       "               'Moore, -JOHN DOE-, <OTHER TARGET 1>, Mueller, Putin/Trump in Vietnam, the tax \"cut\" bill from the Senate...how long is it going to take to unpack, and then how much longer to start healing.']),\n",
       "             ('label', [0, 0, 0, 1, 1, 1, 0, 0, 1, 1])])"
      ]
     },
     "execution_count": 36,
     "metadata": {},
     "output_type": "execute_result"
    }
   ],
   "source": [
    "# train_dataset.set_format(type=\"torch\", columns=[\"label\"])\n",
    "train_dataset[:10]"
   ]
  },
  {
   "cell_type": "code",
   "execution_count": 59,
   "id": "74f14d9f",
   "metadata": {},
   "outputs": [],
   "source": [
    "from transformers import BertTokenizer\n",
    "tokenizer = BertTokenizer.from_pretrained(\"bert-base-uncased\")\n",
    "def encode(batch):\n",
    "    return tokenizer(batch[\"text\"], padding=\"longest\", truncation=True, max_length=512, return_tensors=\"pt\")\n",
    "# train_dataset.set_format(type=\"torch\", columns=[\"label\"], output_all_columns=True)\n",
    "train_dataset.set_transform(encode, columns=[\"text\"], output_all_columns=True)\n"
   ]
  },
  {
   "cell_type": "code",
   "execution_count": 60,
   "id": "0c55e28e",
   "metadata": {},
   "outputs": [
    {
     "data": {
      "text/plain": [
       "{'input_ids': tensor([  101,  5169,  1005,  1055,  2160,  5882,  1006,  1040,  1007, 13675,\n",
       "         29196,  2696, 22959, 20362, 16360,  1012,  1011,  2198, 18629,  1011,\n",
       "          2013,  1037,  2597,  2206,  1037,  3189,  1997,  4424,  5292, 11335,\n",
       "          4757,  3672,   102]),\n",
       " 'token_type_ids': tensor([0, 0, 0, 0, 0, 0, 0, 0, 0, 0, 0, 0, 0, 0, 0, 0, 0, 0, 0, 0, 0, 0, 0, 0,\n",
       "         0, 0, 0, 0, 0, 0, 0, 0, 0]),\n",
       " 'attention_mask': tensor([1, 1, 1, 1, 1, 1, 1, 1, 1, 1, 1, 1, 1, 1, 1, 1, 1, 1, 1, 1, 1, 1, 1, 1,\n",
       "         1, 1, 1, 1, 1, 1, 1, 1, 1]),\n",
       " 'label': 0}"
      ]
     },
     "execution_count": 60,
     "metadata": {},
     "output_type": "execute_result"
    }
   ],
   "source": [
    "train_dataset[0]"
   ]
  },
  {
   "cell_type": "code",
   "execution_count": 43,
   "id": "d926625b",
   "metadata": {},
   "outputs": [
    {
     "data": {
      "text/plain": [
       "{'text': \"Colorado's House Speaker (D) Crisanta Duran removes Rep. -JOHN DOE- from a position following a report of sexual harrassment\",\n",
       " 'label': 0}"
      ]
     },
     "execution_count": 43,
     "metadata": {},
     "output_type": "execute_result"
    }
   ],
   "source": [
    "train_dataset.reset_format()\n",
    "train_dataset[0]"
   ]
  },
  {
   "cell_type": "markdown",
   "id": "ccba4e9f",
   "metadata": {},
   "source": [
    "### Selecting the training set"
   ]
  },
  {
   "cell_type": "code",
   "execution_count": 82,
   "id": "a4e95ae8",
   "metadata": {},
   "outputs": [
    {
     "name": "stdout",
     "output_type": "stream",
     "text": [
      "StratifiedShuffleSplit(n_splits=1, random_state=0, test_size=0.2,\n",
      "            train_size=None)\n",
      "[1509  415  988 ...  864 1143   91]\n"
     ]
    }
   ],
   "source": [
    "import pandas as pd\n",
    "from sklearn.model_selection import StratifiedShuffleSplit\n",
    "data_dir = \"my_dataset_loading_script\"\n",
    "file_name = \"nour_jillian_condemnation_r2_to_r7_maj_vote.jsonl\"\n",
    "def create_train_test(data_dir, file_name):\n",
    "    file_path = os.path.join(data_dir, file_name )\n",
    "    ds_df = pd.read_json(file_path, lines=True)\n",
    "    sss = StratifiedShuffleSplit(n_splits=1, test_size=0.2, random_state=0)\n",
    "    sss.get_n_splits(ds_df, ds_df[\"label\"])\n",
    "    print(sss)\n",
    "#     print(ds_df)\n",
    "    for train_index, test_index in sss.split(ds_df, ds_df[\"label\"]):\n",
    "        print(train_index)\n",
    "        train_df= ds_df.iloc[train_index,:]\n",
    "        test_df= ds_df.iloc[test_index,:]\n",
    "\n",
    "#         test_df = ds_df[test_index]\n",
    "    return train_df, test_df\n",
    "train_df, test_df = create_train_test(data_dir, file_name)\n",
    "        "
   ]
  },
  {
   "cell_type": "code",
   "execution_count": 85,
   "id": "8e6e726e",
   "metadata": {},
   "outputs": [
    {
     "data": {
      "text/plain": [
       "0.6264880952380952"
      ]
     },
     "execution_count": 85,
     "metadata": {},
     "output_type": "execute_result"
    }
   ],
   "source": [
    "sum(train_df.label)/len(train_df.label)"
   ]
  },
  {
   "cell_type": "code",
   "execution_count": 86,
   "id": "ff3edc4f",
   "metadata": {},
   "outputs": [
    {
     "data": {
      "text/plain": [
       "0.6279761904761905"
      ]
     },
     "execution_count": 86,
     "metadata": {},
     "output_type": "execute_result"
    }
   ],
   "source": [
    "sum(test_df.label)/len(test_df.label)"
   ]
  },
  {
   "cell_type": "code",
   "execution_count": null,
   "id": "7dedf5bf",
   "metadata": {},
   "outputs": [],
   "source": []
  }
 ],
 "metadata": {
  "kernelspec": {
   "display_name": "transgression-env",
   "language": "python",
   "name": "transgression-env"
  },
  "language_info": {
   "codemirror_mode": {
    "name": "ipython",
    "version": 3
   },
   "file_extension": ".py",
   "mimetype": "text/x-python",
   "name": "python",
   "nbconvert_exporter": "python",
   "pygments_lexer": "ipython3",
   "version": "3.6.9"
  }
 },
 "nbformat": 4,
 "nbformat_minor": 5
}
